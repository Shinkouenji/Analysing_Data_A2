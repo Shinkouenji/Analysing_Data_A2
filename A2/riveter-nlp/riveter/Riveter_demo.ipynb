{
 "cells": [
  {
   "cell_type": "markdown",
   "metadata": {
    "id": "5fqfU6Nbh9vE"
   },
   "source": [
    "# **How to Use Riveter** 💪"
   ]
  },
  {
   "cell_type": "markdown",
   "metadata": {
    "id": "rsYhZPpch9vF"
   },
   "source": [
    "This Jupyter notebook will demonstrate how to use the Riveter package to measure social dynamics between personas mentioned in a collection of texts.\n",
    "\n",
    "The package identifies and extracts the subjects, verbs, and direct objects in texts; it performs coreference resolution on the personas mentioned in the texts (e.g., clustering \"Elizabeth Bennet\" and \"she\" together as one persona); and it measures social dynamics between the personas by referencing a given lexicon. The package currently includes Maarten Sap et al's lexicon for power and agency and Rashkin et al's lexicon for perspective, effect, value, and mental state."
   ]
  },
  {
   "cell_type": "markdown",
   "metadata": {
    "id": "vCNya6g5iQr0"
   },
   "source": [
    "## **Set up the notebook**"
   ]
  },
  {
   "cell_type": "markdown",
   "metadata": {
    "id": "4n1OCHB8eePa",
    "jp-MarkdownHeadingCollapsed": true
   },
   "source": [
    "### **For Google Colab** (skip this if you run the notebook locally on your computer)"
   ]
  },
  {
   "cell_type": "markdown",
   "metadata": {
    "id": "gsb8NzBQmfBD"
   },
   "source": [
    "First, we need to connect to your Google Drive, so that we have a place to store the Riveter code.\n",
    "\n",
    "When you run the following cell, a pop-up should appear asking for permission to connect to your Google Drive. Select the Google account that you want to use and accept the conditions."
   ]
  },
  {
   "cell_type": "code",
   "execution_count": null,
   "metadata": {
    "id": "nD0Tb4sWiWzZ"
   },
   "outputs": [],
   "source": [
    "from google.colab import drive\n",
    "drive.mount('/content/gdrive')"
   ]
  },
  {
   "cell_type": "markdown",
   "metadata": {
    "id": "LaUOV7yQmxiL"
   },
   "source": [
    "Now specify a place in your Google Drive where you'd like to save the output of this notebook. If you use a custom folder, you'll need to first create that folder in your Google Drive."
   ]
  },
  {
   "cell_type": "code",
   "execution_count": null,
   "metadata": {
    "id": "Vxb_YN7ni-uF"
   },
   "outputs": [],
   "source": [
    "colab_directory_path = '/content/gdrive/MyDrive/riveter-test'"
   ]
  },
  {
   "cell_type": "code",
   "execution_count": null,
   "metadata": {
    "id": "9n9MFlqMh4ap"
   },
   "outputs": [],
   "source": [
    "%mkdir /content/gdrive/MyDrive/riveter-test"
   ]
  },
  {
   "cell_type": "markdown",
   "metadata": {
    "id": "Rf1Ag1FpnCP_"
   },
   "source": [
    "Let's go inside that folder."
   ]
  },
  {
   "cell_type": "code",
   "execution_count": null,
   "metadata": {
    "id": "twUX_YqEio1V"
   },
   "outputs": [],
   "source": [
    "%cd /content/gdrive/MyDrive/riveter-test"
   ]
  },
  {
   "cell_type": "markdown",
   "metadata": {
    "id": "DYOXf4-BnHs1"
   },
   "source": [
    "And now let's download the Riveter code and data from its Github repository. Because we're inside the Google Drive folder, the code will be saved to that location."
   ]
  },
  {
   "cell_type": "code",
   "execution_count": null,
   "metadata": {
    "id": "cxktYq0rio4X"
   },
   "outputs": [],
   "source": [
    "! git clone https://github.com/maartensap/riveter-nlp.git"
   ]
  },
  {
   "cell_type": "markdown",
   "metadata": {
    "id": "spXWAJx9nOg5"
   },
   "source": [
    "You can check that the download was successful by printing the contents of your Google Drive folder."
   ]
  },
  {
   "cell_type": "code",
   "execution_count": null,
   "metadata": {
    "id": "uxH1p2cBnT1j"
   },
   "outputs": [],
   "source": [
    "%ls"
   ]
  },
  {
   "cell_type": "markdown",
   "metadata": {
    "id": "edFs_99RnYr1"
   },
   "source": [
    "Now let's move inside the Riveter folder, so that we'll be able to import the functions we want to use."
   ]
  },
  {
   "cell_type": "code",
   "execution_count": null,
   "metadata": {
    "id": "kdEJfqfgj-La"
   },
   "outputs": [],
   "source": [
    "%cd /content/gdrive/MyDrive/riveter-test/riveter-nlp/riveter"
   ]
  },
  {
   "cell_type": "markdown",
   "metadata": {
    "id": "cGkyQ0IHfP2N",
    "jp-MarkdownHeadingCollapsed": true
   },
   "source": [
    "### **For a local Juyter notebook**"
   ]
  },
  {
   "cell_type": "markdown",
   "metadata": {
    "id": "9AQmXi_sf-eC"
   },
   "source": [
    "Let's download the Riveter code and data from its Github repository."
   ]
  },
  {
   "cell_type": "code",
   "execution_count": 5,
   "metadata": {
    "id": "Vj01BJ5MgERh"
   },
   "outputs": [
    {
     "name": "stderr",
     "output_type": "stream",
     "text": [
      "Cloning into 'riveter-nlp'...\n"
     ]
    }
   ],
   "source": [
    "! git clone https://github.com/maartensap/riveter-nlp.git"
   ]
  },
  {
   "cell_type": "code",
   "execution_count": null,
   "metadata": {
    "id": "w_2mySAjgp58"
   },
   "outputs": [],
   "source": []
  },
  {
   "cell_type": "markdown",
   "metadata": {
    "id": "c6GMmmJtgG3J"
   },
   "source": [
    "You can check that the download was successful by printing the contents of the folder your in."
   ]
  },
  {
   "cell_type": "code",
   "execution_count": 6,
   "metadata": {
    "id": "PudCt-bBgTbG"
   },
   "outputs": [
    {
     "name": "stdout",
     "output_type": "stream",
     "text": [
      " Volume in drive C is OS\n",
      " Volume Serial Number is 5621-178A\n",
      "\n",
      " Directory of C:\\Users\\bente\\Documents\\Master\\Analysing_Data\\A2\\riveter-nlp\\riveter\n",
      "\n",
      "08-03-2024  15:00    <DIR>          .\n",
      "08-03-2024  14:12    <DIR>          ..\n",
      "08-03-2024  15:00    <DIR>          .ipynb_checkpoints\n",
      "08-03-2024  11:56               241 __init__.py\n",
      "08-03-2024  14:10    <DIR>          __pycache__\n",
      "08-03-2024  14:41         2.793.258 AD_Assignment_2.ipynb\n",
      "08-03-2024  11:30           650.673 BTS_short_100.csv\n",
      "08-03-2024  11:56    <DIR>          data\n",
      "08-03-2024  11:56           649.389 demo.ipynb\n",
      "08-03-2024  11:56           110.277 demo-Little-Red-Cap.ipynb\n",
      "08-03-2024  11:56           584.776 demo-NYT-Obits.ipynb\n",
      "08-03-2024  11:56            19.472 demo-reorganized.ipynb\n",
      "08-03-2024  11:56            29.118 riveter.py\n",
      "08-03-2024  14:41            35.117 Riveter_demo.ipynb\n",
      "08-03-2024  15:00    <DIR>          riveter-nlp\n",
      "08-03-2024  14:58            22.452 test\n",
      "08-03-2024  11:56            10.099 test_suite.py\n",
      "              11 File(s)      4.904.872 bytes\n",
      "               6 Dir(s)  326.851.063.808 bytes free\n"
     ]
    }
   ],
   "source": [
    "%ls"
   ]
  },
  {
   "cell_type": "markdown",
   "metadata": {
    "id": "iw07ivxcgVut"
   },
   "source": [
    "Now let's move inside the Riveter folder, so that we'll be able to import the functions we want to use."
   ]
  },
  {
   "cell_type": "code",
   "execution_count": 8,
   "metadata": {
    "id": "o-tF7_MLgbar"
   },
   "outputs": [
    {
     "name": "stdout",
     "output_type": "stream",
     "text": [
      "C:\\Users\\bente\\Documents\\Master\\Analysing_Data\\A2\\riveter-nlp\\riveter\\riveter-nlp\\riveter\n"
     ]
    }
   ],
   "source": [
    "%cd riveter-nlp/riveter"
   ]
  },
  {
   "cell_type": "markdown",
   "metadata": {
    "id": "U4ncYZf9b1rK"
   },
   "source": [
    "##**Install needed packages**"
   ]
  },
  {
   "cell_type": "markdown",
   "metadata": {
    "id": "MSB8ytUcndQ-"
   },
   "source": [
    "Finally, we'll install some spaCy models and Python packages to support Riveter."
   ]
  },
  {
   "cell_type": "code",
   "execution_count": 9,
   "metadata": {
    "collapsed": true,
    "id": "sPKr3XRHio7h",
    "jupyter": {
     "outputs_hidden": true
    }
   },
   "outputs": [
    {
     "name": "stdout",
     "output_type": "stream",
     "text": [
      "Requirement already satisfied: spacy-experimental in c:\\users\\bente\\anaconda3\\lib\\site-packages (0.6.4)\n",
      "Requirement already satisfied: spacy<3.8.0,>=3.3.0 in c:\\users\\bente\\anaconda3\\lib\\site-packages (from spacy-experimental) (3.7.4)\n",
      "Requirement already satisfied: numpy>=1.19.0 in c:\\users\\bente\\anaconda3\\lib\\site-packages (from spacy-experimental) (1.26.3)\n",
      "Requirement already satisfied: spacy-legacy<3.1.0,>=3.0.11 in c:\\users\\bente\\anaconda3\\lib\\site-packages (from spacy<3.8.0,>=3.3.0->spacy-experimental) (3.0.12)\n",
      "Requirement already satisfied: spacy-loggers<2.0.0,>=1.0.0 in c:\\users\\bente\\anaconda3\\lib\\site-packages (from spacy<3.8.0,>=3.3.0->spacy-experimental) (1.0.5)\n",
      "Requirement already satisfied: murmurhash<1.1.0,>=0.28.0 in c:\\users\\bente\\anaconda3\\lib\\site-packages (from spacy<3.8.0,>=3.3.0->spacy-experimental) (1.0.10)\n",
      "Requirement already satisfied: cymem<2.1.0,>=2.0.2 in c:\\users\\bente\\anaconda3\\lib\\site-packages (from spacy<3.8.0,>=3.3.0->spacy-experimental) (2.0.8)\n",
      "Requirement already satisfied: preshed<3.1.0,>=3.0.2 in c:\\users\\bente\\anaconda3\\lib\\site-packages (from spacy<3.8.0,>=3.3.0->spacy-experimental) (3.0.9)\n",
      "Requirement already satisfied: thinc<8.3.0,>=8.2.2 in c:\\users\\bente\\anaconda3\\lib\\site-packages (from spacy<3.8.0,>=3.3.0->spacy-experimental) (8.2.3)\n",
      "Requirement already satisfied: wasabi<1.2.0,>=0.9.1 in c:\\users\\bente\\anaconda3\\lib\\site-packages (from spacy<3.8.0,>=3.3.0->spacy-experimental) (0.10.1)\n",
      "Requirement already satisfied: srsly<3.0.0,>=2.4.3 in c:\\users\\bente\\anaconda3\\lib\\site-packages (from spacy<3.8.0,>=3.3.0->spacy-experimental) (2.4.8)\n",
      "Requirement already satisfied: catalogue<2.1.0,>=2.0.6 in c:\\users\\bente\\anaconda3\\lib\\site-packages (from spacy<3.8.0,>=3.3.0->spacy-experimental) (2.0.10)\n",
      "Requirement already satisfied: weasel<0.4.0,>=0.1.0 in c:\\users\\bente\\anaconda3\\lib\\site-packages (from spacy<3.8.0,>=3.3.0->spacy-experimental) (0.3.4)\n",
      "Requirement already satisfied: typer<0.10.0,>=0.3.0 in c:\\users\\bente\\anaconda3\\lib\\site-packages (from spacy<3.8.0,>=3.3.0->spacy-experimental) (0.7.0)\n",
      "Requirement already satisfied: smart-open<7.0.0,>=5.2.1 in c:\\users\\bente\\anaconda3\\lib\\site-packages (from spacy<3.8.0,>=3.3.0->spacy-experimental) (5.2.1)\n",
      "Requirement already satisfied: tqdm<5.0.0,>=4.38.0 in c:\\users\\bente\\anaconda3\\lib\\site-packages (from spacy<3.8.0,>=3.3.0->spacy-experimental) (4.65.0)\n",
      "Requirement already satisfied: requests<3.0.0,>=2.13.0 in c:\\users\\bente\\anaconda3\\lib\\site-packages (from spacy<3.8.0,>=3.3.0->spacy-experimental) (2.31.0)\n",
      "Requirement already satisfied: pydantic!=1.8,!=1.8.1,<3.0.0,>=1.7.4 in c:\\users\\bente\\anaconda3\\lib\\site-packages (from spacy<3.8.0,>=3.3.0->spacy-experimental) (1.10.12)\n",
      "Requirement already satisfied: jinja2 in c:\\users\\bente\\anaconda3\\lib\\site-packages (from spacy<3.8.0,>=3.3.0->spacy-experimental) (3.1.3)\n",
      "Requirement already satisfied: setuptools in c:\\users\\bente\\anaconda3\\lib\\site-packages (from spacy<3.8.0,>=3.3.0->spacy-experimental) (68.2.2)\n",
      "Requirement already satisfied: packaging>=20.0 in c:\\users\\bente\\anaconda3\\lib\\site-packages (from spacy<3.8.0,>=3.3.0->spacy-experimental) (23.1)\n",
      "Requirement already satisfied: langcodes<4.0.0,>=3.2.0 in c:\\users\\bente\\anaconda3\\lib\\site-packages (from spacy<3.8.0,>=3.3.0->spacy-experimental) (3.3.0)\n",
      "Requirement already satisfied: typing-extensions>=4.2.0 in c:\\users\\bente\\anaconda3\\lib\\site-packages (from pydantic!=1.8,!=1.8.1,<3.0.0,>=1.7.4->spacy<3.8.0,>=3.3.0->spacy-experimental) (4.9.0)\n",
      "Requirement already satisfied: charset-normalizer<4,>=2 in c:\\users\\bente\\anaconda3\\lib\\site-packages (from requests<3.0.0,>=2.13.0->spacy<3.8.0,>=3.3.0->spacy-experimental) (2.0.4)\n",
      "Requirement already satisfied: idna<4,>=2.5 in c:\\users\\bente\\anaconda3\\lib\\site-packages (from requests<3.0.0,>=2.13.0->spacy<3.8.0,>=3.3.0->spacy-experimental) (3.4)\n",
      "Requirement already satisfied: urllib3<3,>=1.21.1 in c:\\users\\bente\\anaconda3\\lib\\site-packages (from requests<3.0.0,>=2.13.0->spacy<3.8.0,>=3.3.0->spacy-experimental) (2.0.7)\n",
      "Requirement already satisfied: certifi>=2017.4.17 in c:\\users\\bente\\anaconda3\\lib\\site-packages (from requests<3.0.0,>=2.13.0->spacy<3.8.0,>=3.3.0->spacy-experimental) (2024.2.2)\n",
      "Requirement already satisfied: blis<0.8.0,>=0.7.8 in c:\\users\\bente\\anaconda3\\lib\\site-packages (from thinc<8.3.0,>=8.2.2->spacy<3.8.0,>=3.3.0->spacy-experimental) (0.7.11)\n",
      "Requirement already satisfied: confection<1.0.0,>=0.0.1 in c:\\users\\bente\\anaconda3\\lib\\site-packages (from thinc<8.3.0,>=8.2.2->spacy<3.8.0,>=3.3.0->spacy-experimental) (0.1.4)\n",
      "Requirement already satisfied: colorama in c:\\users\\bente\\anaconda3\\lib\\site-packages (from tqdm<5.0.0,>=4.38.0->spacy<3.8.0,>=3.3.0->spacy-experimental) (0.4.6)\n",
      "Requirement already satisfied: click<9.0.0,>=7.1.1 in c:\\users\\bente\\anaconda3\\lib\\site-packages (from typer<0.10.0,>=0.3.0->spacy<3.8.0,>=3.3.0->spacy-experimental) (8.1.7)\n",
      "Requirement already satisfied: cloudpathlib<0.17.0,>=0.7.0 in c:\\users\\bente\\anaconda3\\lib\\site-packages (from weasel<0.4.0,>=0.1.0->spacy<3.8.0,>=3.3.0->spacy-experimental) (0.16.0)\n",
      "Requirement already satisfied: MarkupSafe>=2.0 in c:\\users\\bente\\anaconda3\\lib\\site-packages (from jinja2->spacy<3.8.0,>=3.3.0->spacy-experimental) (2.1.3)\n",
      "Collecting en-coreference-web-trf==3.4.0a0\n",
      "  Downloading https://github.com/explosion/spacy-experimental/releases/download/v0.6.0/en_coreference_web_trf-3.4.0a0-py3-none-any.whl (490.3 MB)\n",
      "     ---------------------------------------- 0.0/490.3 MB ? eta -:--:--\n",
      "     ---------------------------------------- 0.0/490.3 MB ? eta -:--:--\n",
      "     -------------------------------------- 0.0/490.3 MB 660.6 kB/s eta 0:12:23\n",
      "     ---------------------------------------- 0.1/490.3 MB 1.4 MB/s eta 0:05:40\n",
      "     ---------------------------------------- 1.1/490.3 MB 8.7 MB/s eta 0:00:57\n",
      "     --------------------------------------- 2.4/490.3 MB 14.1 MB/s eta 0:00:35\n",
      "     --------------------------------------- 3.5/490.3 MB 15.9 MB/s eta 0:00:31\n",
      "     --------------------------------------- 4.7/490.3 MB 17.7 MB/s eta 0:00:28\n",
      "     --------------------------------------- 5.7/490.3 MB 18.3 MB/s eta 0:00:27\n",
      "      -------------------------------------- 7.0/490.3 MB 19.5 MB/s eta 0:00:25\n",
      "      -------------------------------------- 8.5/490.3 MB 20.9 MB/s eta 0:00:24\n",
      "      -------------------------------------- 9.8/490.3 MB 21.6 MB/s eta 0:00:23\n",
      "      ------------------------------------- 11.2/490.3 MB 27.3 MB/s eta 0:00:18\n",
      "      ------------------------------------- 12.5/490.3 MB 27.3 MB/s eta 0:00:18\n",
      "     - ------------------------------------ 13.9/490.3 MB 28.4 MB/s eta 0:00:17\n",
      "     - ------------------------------------ 15.3/490.3 MB 29.7 MB/s eta 0:00:16\n",
      "     - ------------------------------------ 16.8/490.3 MB 29.8 MB/s eta 0:00:16\n",
      "     - ------------------------------------ 18.3/490.3 MB 31.2 MB/s eta 0:00:16\n",
      "     - ------------------------------------ 19.2/490.3 MB 29.7 MB/s eta 0:00:16\n",
      "     - ------------------------------------ 19.9/490.3 MB 27.3 MB/s eta 0:00:18\n",
      "     - ------------------------------------ 20.9/490.3 MB 26.2 MB/s eta 0:00:18\n",
      "     - ------------------------------------ 22.3/490.3 MB 27.3 MB/s eta 0:00:18\n",
      "     - ------------------------------------ 23.2/490.3 MB 25.1 MB/s eta 0:00:19\n",
      "     - ------------------------------------ 24.6/490.3 MB 25.1 MB/s eta 0:00:19\n",
      "     - ------------------------------------ 25.2/490.3 MB 24.2 MB/s eta 0:00:20\n",
      "     -- ----------------------------------- 25.9/490.3 MB 22.6 MB/s eta 0:00:21\n",
      "     -- ----------------------------------- 27.0/490.3 MB 22.6 MB/s eta 0:00:21\n",
      "     -- ----------------------------------- 27.9/490.3 MB 21.1 MB/s eta 0:00:22\n",
      "     -- ----------------------------------- 28.5/490.3 MB 19.8 MB/s eta 0:00:24\n",
      "     -- ----------------------------------- 29.7/490.3 MB 20.5 MB/s eta 0:00:23\n",
      "     -- ----------------------------------- 30.4/490.3 MB 20.5 MB/s eta 0:00:23\n",
      "     -- ----------------------------------- 31.6/490.3 MB 21.1 MB/s eta 0:00:22\n",
      "     -- ----------------------------------- 32.3/490.3 MB 20.5 MB/s eta 0:00:23\n",
      "     -- ----------------------------------- 32.9/490.3 MB 19.3 MB/s eta 0:00:24\n",
      "     -- ----------------------------------- 33.3/490.3 MB 18.2 MB/s eta 0:00:26\n",
      "     -- ----------------------------------- 34.1/490.3 MB 17.7 MB/s eta 0:00:26\n",
      "     -- ----------------------------------- 35.0/490.3 MB 17.2 MB/s eta 0:00:27\n",
      "     -- ----------------------------------- 36.1/490.3 MB 18.2 MB/s eta 0:00:25\n",
      "     -- ----------------------------------- 36.9/490.3 MB 17.7 MB/s eta 0:00:26\n",
      "     -- ----------------------------------- 37.7/490.3 MB 18.2 MB/s eta 0:00:25\n",
      "     -- ----------------------------------- 38.6/490.3 MB 17.7 MB/s eta 0:00:26\n",
      "     --- ---------------------------------- 39.5/490.3 MB 18.2 MB/s eta 0:00:25\n",
      "     --- ---------------------------------- 40.5/490.3 MB 17.7 MB/s eta 0:00:26\n",
      "     --- ---------------------------------- 41.4/490.3 MB 17.7 MB/s eta 0:00:26\n",
      "     --- ---------------------------------- 42.5/490.3 MB 17.7 MB/s eta 0:00:26\n",
      "     --- ---------------------------------- 43.3/490.3 MB 18.7 MB/s eta 0:00:24\n",
      "     --- ---------------------------------- 44.0/490.3 MB 19.8 MB/s eta 0:00:23\n",
      "     --- ---------------------------------- 45.0/490.3 MB 19.2 MB/s eta 0:00:24\n",
      "     --- ---------------------------------- 46.0/490.3 MB 19.3 MB/s eta 0:00:24\n",
      "     --- ---------------------------------- 47.0/490.3 MB 19.9 MB/s eta 0:00:23\n",
      "     --- ---------------------------------- 48.0/490.3 MB 20.5 MB/s eta 0:00:22\n",
      "     --- ---------------------------------- 49.0/490.3 MB 20.5 MB/s eta 0:00:22\n",
      "     --- ---------------------------------- 50.0/490.3 MB 21.1 MB/s eta 0:00:21\n",
      "     --- ---------------------------------- 51.3/490.3 MB 21.1 MB/s eta 0:00:21\n",
      "     --- ---------------------------------- 51.5/490.3 MB 19.2 MB/s eta 0:00:23\n",
      "     ---- --------------------------------- 52.2/490.3 MB 19.2 MB/s eta 0:00:23\n",
      "     ---- --------------------------------- 53.0/490.3 MB 18.7 MB/s eta 0:00:24\n",
      "     ---- --------------------------------- 54.0/490.3 MB 19.3 MB/s eta 0:00:23\n",
      "     ---- --------------------------------- 55.1/490.3 MB 19.9 MB/s eta 0:00:22\n",
      "     ---- --------------------------------- 56.0/490.3 MB 19.3 MB/s eta 0:00:23\n",
      "     ---- --------------------------------- 57.3/490.3 MB 20.5 MB/s eta 0:00:22\n",
      "     ---- --------------------------------- 58.4/490.3 MB 20.5 MB/s eta 0:00:22\n",
      "     ---- --------------------------------- 59.5/490.3 MB 21.1 MB/s eta 0:00:21\n",
      "     ---- --------------------------------- 60.3/490.3 MB 20.5 MB/s eta 0:00:22\n",
      "     ---- --------------------------------- 61.5/490.3 MB 20.5 MB/s eta 0:00:21\n",
      "     ---- --------------------------------- 62.6/490.3 MB 22.6 MB/s eta 0:00:19\n",
      "     ---- --------------------------------- 63.5/490.3 MB 22.5 MB/s eta 0:00:19\n",
      "     ----- -------------------------------- 64.6/490.3 MB 23.4 MB/s eta 0:00:19\n",
      "     ----- -------------------------------- 65.8/490.3 MB 23.4 MB/s eta 0:00:19\n",
      "     ----- -------------------------------- 66.9/490.3 MB 23.4 MB/s eta 0:00:19\n",
      "     ----- -------------------------------- 68.0/490.3 MB 23.4 MB/s eta 0:00:19\n",
      "     ----- -------------------------------- 69.2/490.3 MB 23.4 MB/s eta 0:00:19\n",
      "     ----- -------------------------------- 70.0/490.3 MB 23.4 MB/s eta 0:00:18\n",
      "     ----- -------------------------------- 70.7/490.3 MB 22.6 MB/s eta 0:00:19\n",
      "     ----- -------------------------------- 71.5/490.3 MB 21.8 MB/s eta 0:00:20\n",
      "     ----- -------------------------------- 72.4/490.3 MB 21.1 MB/s eta 0:00:20\n",
      "     ----- -------------------------------- 73.2/490.3 MB 21.1 MB/s eta 0:00:20\n",
      "     ----- -------------------------------- 74.0/490.3 MB 20.5 MB/s eta 0:00:21\n",
      "     ----- -------------------------------- 74.8/490.3 MB 19.8 MB/s eta 0:00:21\n",
      "     ----- -------------------------------- 75.5/490.3 MB 19.3 MB/s eta 0:00:22\n",
      "     ----- -------------------------------- 76.3/490.3 MB 18.7 MB/s eta 0:00:23\n",
      "     ----- -------------------------------- 77.2/490.3 MB 18.7 MB/s eta 0:00:23\n",
      "     ------ ------------------------------- 78.1/490.3 MB 18.2 MB/s eta 0:00:23\n",
      "     ------ ------------------------------- 79.0/490.3 MB 17.7 MB/s eta 0:00:24\n",
      "     ------ ------------------------------- 79.8/490.3 MB 17.7 MB/s eta 0:00:24\n",
      "     ------ ------------------------------- 80.5/490.3 MB 17.7 MB/s eta 0:00:24\n",
      "     ------ ------------------------------- 81.5/490.3 MB 17.7 MB/s eta 0:00:24\n",
      "     ------ ------------------------------- 82.3/490.3 MB 17.7 MB/s eta 0:00:24\n",
      "     ------ ------------------------------- 83.2/490.3 MB 17.7 MB/s eta 0:00:23\n",
      "     ------ ------------------------------- 84.0/490.3 MB 18.2 MB/s eta 0:00:23\n",
      "     ------ ------------------------------- 85.0/490.3 MB 18.2 MB/s eta 0:00:23\n",
      "     ------ ------------------------------- 85.9/490.3 MB 18.7 MB/s eta 0:00:22\n",
      "     ------ ------------------------------- 86.6/490.3 MB 18.7 MB/s eta 0:00:22\n",
      "     ------ ------------------------------- 87.3/490.3 MB 18.2 MB/s eta 0:00:23\n",
      "     ------ ------------------------------- 88.3/490.3 MB 18.2 MB/s eta 0:00:23\n",
      "     ------ ------------------------------- 89.3/490.3 MB 18.7 MB/s eta 0:00:22\n",
      "     ------ ------------------------------- 90.0/490.3 MB 18.2 MB/s eta 0:00:23\n",
      "     ------- ------------------------------ 90.8/490.3 MB 18.2 MB/s eta 0:00:22\n",
      "     ------- ------------------------------ 91.5/490.3 MB 17.7 MB/s eta 0:00:23\n",
      "     ------- ------------------------------ 92.0/490.3 MB 17.7 MB/s eta 0:00:23\n",
      "     ------- ------------------------------ 92.6/490.3 MB 17.7 MB/s eta 0:00:23\n",
      "     ------- ------------------------------ 93.6/490.3 MB 17.2 MB/s eta 0:00:24\n",
      "     ------- ------------------------------ 94.5/490.3 MB 17.7 MB/s eta 0:00:23\n",
      "     ------- ------------------------------ 95.4/490.3 MB 17.2 MB/s eta 0:00:23\n",
      "     ------- ------------------------------ 96.5/490.3 MB 17.7 MB/s eta 0:00:23\n",
      "     ------- ------------------------------ 97.4/490.3 MB 17.7 MB/s eta 0:00:23\n",
      "     ------- ------------------------------ 98.1/490.3 MB 17.7 MB/s eta 0:00:23\n",
      "     ------- ------------------------------ 98.7/490.3 MB 17.7 MB/s eta 0:00:23\n",
      "     ------- ------------------------------ 99.6/490.3 MB 17.7 MB/s eta 0:00:23\n",
      "     ------- ----------------------------- 100.4/490.3 MB 17.2 MB/s eta 0:00:23\n",
      "     ------- ----------------------------- 101.3/490.3 MB 18.2 MB/s eta 0:00:22\n",
      "     ------- ----------------------------- 102.3/490.3 MB 18.7 MB/s eta 0:00:21\n",
      "     ------- ----------------------------- 103.2/490.3 MB 18.7 MB/s eta 0:00:21\n",
      "     ------- ----------------------------- 104.1/490.3 MB 19.3 MB/s eta 0:00:21\n",
      "     ------- ----------------------------- 105.0/490.3 MB 18.7 MB/s eta 0:00:21\n",
      "     ------- ----------------------------- 105.8/490.3 MB 18.7 MB/s eta 0:00:21\n",
      "     -------- ---------------------------- 106.9/490.3 MB 18.7 MB/s eta 0:00:21\n",
      "     -------- ---------------------------- 107.8/490.3 MB 19.2 MB/s eta 0:00:20\n",
      "     -------- ---------------------------- 108.5/490.3 MB 19.8 MB/s eta 0:00:20\n",
      "     -------- ---------------------------- 109.5/490.3 MB 19.3 MB/s eta 0:00:20\n",
      "     -------- ---------------------------- 110.5/490.3 MB 19.3 MB/s eta 0:00:20\n",
      "     -------- ---------------------------- 111.5/490.3 MB 19.8 MB/s eta 0:00:20\n",
      "     -------- ---------------------------- 112.4/490.3 MB 19.8 MB/s eta 0:00:20\n",
      "     -------- ---------------------------- 113.4/490.3 MB 19.8 MB/s eta 0:00:20\n",
      "     -------- ---------------------------- 114.1/490.3 MB 19.8 MB/s eta 0:00:19\n",
      "     -------- ---------------------------- 115.1/490.3 MB 19.8 MB/s eta 0:00:19\n",
      "     -------- ---------------------------- 116.2/490.3 MB 20.5 MB/s eta 0:00:19\n",
      "     -------- ---------------------------- 117.2/490.3 MB 21.1 MB/s eta 0:00:18\n",
      "     -------- ---------------------------- 118.0/490.3 MB 20.5 MB/s eta 0:00:19\n",
      "     -------- ---------------------------- 119.0/490.3 MB 20.5 MB/s eta 0:00:19\n",
      "     --------- --------------------------- 120.2/490.3 MB 20.5 MB/s eta 0:00:19\n",
      "     --------- --------------------------- 121.1/490.3 MB 21.1 MB/s eta 0:00:18\n",
      "     --------- --------------------------- 122.1/490.3 MB 21.1 MB/s eta 0:00:18\n",
      "     --------- --------------------------- 123.1/490.3 MB 21.1 MB/s eta 0:00:18\n",
      "     --------- --------------------------- 123.9/490.3 MB 21.1 MB/s eta 0:00:18\n",
      "     --------- --------------------------- 124.9/490.3 MB 21.1 MB/s eta 0:00:18\n",
      "     --------- --------------------------- 125.7/490.3 MB 20.5 MB/s eta 0:00:18\n",
      "     --------- --------------------------- 126.4/490.3 MB 20.5 MB/s eta 0:00:18\n",
      "     --------- --------------------------- 126.7/490.3 MB 18.7 MB/s eta 0:00:20\n",
      "     --------- --------------------------- 128.0/490.3 MB 18.7 MB/s eta 0:00:20\n",
      "     --------- --------------------------- 128.8/490.3 MB 19.3 MB/s eta 0:00:19\n",
      "     --------- --------------------------- 129.4/490.3 MB 18.7 MB/s eta 0:00:20\n",
      "     --------- --------------------------- 129.8/490.3 MB 17.7 MB/s eta 0:00:21\n",
      "     --------- --------------------------- 130.8/490.3 MB 17.7 MB/s eta 0:00:21\n",
      "     --------- --------------------------- 131.6/490.3 MB 17.2 MB/s eta 0:00:21\n",
      "     --------- --------------------------- 132.5/490.3 MB 17.3 MB/s eta 0:00:21\n",
      "     ---------- -------------------------- 133.3/490.3 MB 16.8 MB/s eta 0:00:22\n",
      "     ---------- -------------------------- 134.2/490.3 MB 17.2 MB/s eta 0:00:21\n",
      "     ---------- -------------------------- 135.1/490.3 MB 16.8 MB/s eta 0:00:22\n",
      "     ---------- -------------------------- 136.0/490.3 MB 17.2 MB/s eta 0:00:21\n",
      "     ---------- -------------------------- 136.8/490.3 MB 18.2 MB/s eta 0:00:20\n",
      "     ---------- -------------------------- 137.7/490.3 MB 17.7 MB/s eta 0:00:20\n",
      "     ---------- -------------------------- 138.6/490.3 MB 17.7 MB/s eta 0:00:20\n",
      "     ---------- -------------------------- 139.4/490.3 MB 18.2 MB/s eta 0:00:20\n",
      "     ---------- -------------------------- 140.4/490.3 MB 19.3 MB/s eta 0:00:19\n",
      "     ---------- -------------------------- 141.1/490.3 MB 19.2 MB/s eta 0:00:19\n",
      "     ---------- -------------------------- 142.1/490.3 MB 18.7 MB/s eta 0:00:19\n",
      "     ---------- -------------------------- 143.0/490.3 MB 18.7 MB/s eta 0:00:19\n",
      "     ---------- -------------------------- 143.8/490.3 MB 18.7 MB/s eta 0:00:19\n",
      "     ---------- -------------------------- 144.8/490.3 MB 19.2 MB/s eta 0:00:18\n",
      "     ---------- -------------------------- 145.5/490.3 MB 19.3 MB/s eta 0:00:18\n",
      "     ---------- -------------------------- 145.6/490.3 MB 17.3 MB/s eta 0:00:20\n",
      "     ----------- ------------------------- 146.1/490.3 MB 16.8 MB/s eta 0:00:21\n",
      "     ----------- ------------------------- 146.7/490.3 MB 16.4 MB/s eta 0:00:21\n",
      "     ----------- ------------------------- 147.1/490.3 MB 16.4 MB/s eta 0:00:21\n",
      "     ----------- ------------------------- 147.8/490.3 MB 15.6 MB/s eta 0:00:22\n",
      "     ----------- ------------------------- 148.9/490.3 MB 16.0 MB/s eta 0:00:22\n",
      "     ----------- ------------------------- 149.9/490.3 MB 16.0 MB/s eta 0:00:22\n",
      "     ----------- ------------------------- 150.9/490.3 MB 16.0 MB/s eta 0:00:22\n",
      "     ----------- ------------------------- 151.7/490.3 MB 16.0 MB/s eta 0:00:22\n",
      "     ----------- ------------------------- 152.5/490.3 MB 16.0 MB/s eta 0:00:22\n",
      "     ----------- ------------------------- 153.3/490.3 MB 16.4 MB/s eta 0:00:21\n",
      "     ----------- ------------------------- 154.2/490.3 MB 15.6 MB/s eta 0:00:22\n",
      "     ----------- ------------------------- 154.8/490.3 MB 15.6 MB/s eta 0:00:22\n",
      "     ----------- ------------------------- 155.1/490.3 MB 14.9 MB/s eta 0:00:23\n",
      "     ----------- ------------------------- 155.6/490.3 MB 14.2 MB/s eta 0:00:24\n",
      "     ----------- ------------------------- 156.3/490.3 MB 15.6 MB/s eta 0:00:22\n",
      "     ----------- ------------------------- 156.9/490.3 MB 15.6 MB/s eta 0:00:22\n",
      "     ----------- ------------------------- 157.6/490.3 MB 16.4 MB/s eta 0:00:21\n",
      "     ----------- ------------------------- 158.3/490.3 MB 16.4 MB/s eta 0:00:21\n",
      "     ------------ ------------------------ 159.0/490.3 MB 16.0 MB/s eta 0:00:21\n",
      "     ------------ ------------------------ 159.8/490.3 MB 15.6 MB/s eta 0:00:22\n",
      "     ------------ ------------------------ 160.5/490.3 MB 15.2 MB/s eta 0:00:22\n",
      "     ------------ ------------------------ 160.9/490.3 MB 14.6 MB/s eta 0:00:23\n",
      "     ------------ ------------------------ 161.4/490.3 MB 14.2 MB/s eta 0:00:24\n",
      "     ------------ ------------------------ 162.0/490.3 MB 13.9 MB/s eta 0:00:24\n",
      "     ------------ ------------------------ 162.2/490.3 MB 13.6 MB/s eta 0:00:25\n",
      "     ------------ ------------------------ 162.5/490.3 MB 12.8 MB/s eta 0:00:26\n",
      "     ------------ ------------------------ 162.8/490.3 MB 12.4 MB/s eta 0:00:27\n",
      "     ------------ ------------------------ 163.4/490.3 MB 12.1 MB/s eta 0:00:27\n",
      "     ------------ ------------------------ 164.0/490.3 MB 11.9 MB/s eta 0:00:28\n",
      "     ------------ ------------------------ 164.7/490.3 MB 11.9 MB/s eta 0:00:28\n",
      "     ------------ ------------------------ 165.3/490.3 MB 11.9 MB/s eta 0:00:28\n",
      "     ------------ ------------------------ 166.0/490.3 MB 12.6 MB/s eta 0:00:26\n",
      "     ------------ ------------------------ 166.7/490.3 MB 12.6 MB/s eta 0:00:26\n",
      "     ------------ ------------------------ 167.2/490.3 MB 12.3 MB/s eta 0:00:27\n",
      "     ------------ ------------------------ 167.6/490.3 MB 12.1 MB/s eta 0:00:27\n",
      "     ------------ ------------------------ 168.2/490.3 MB 11.9 MB/s eta 0:00:28\n",
      "     ------------ ------------------------ 168.7/490.3 MB 11.7 MB/s eta 0:00:28\n",
      "     ------------ ------------------------ 169.3/490.3 MB 11.7 MB/s eta 0:00:28\n",
      "     ------------ ------------------------ 170.1/490.3 MB 11.7 MB/s eta 0:00:28\n",
      "     ------------ ------------------------ 170.8/490.3 MB 11.7 MB/s eta 0:00:28\n",
      "     ------------ ------------------------ 171.5/490.3 MB 12.1 MB/s eta 0:00:27\n",
      "     ------------- ----------------------- 172.4/490.3 MB 12.6 MB/s eta 0:00:26\n",
      "     ------------- ----------------------- 173.2/490.3 MB 13.9 MB/s eta 0:00:23\n",
      "     ------------- ----------------------- 173.9/490.3 MB 14.2 MB/s eta 0:00:23\n",
      "     ------------- ----------------------- 174.7/490.3 MB 14.2 MB/s eta 0:00:23\n",
      "     ------------- ----------------------- 175.3/490.3 MB 14.2 MB/s eta 0:00:23\n",
      "     ------------- ----------------------- 176.0/490.3 MB 14.2 MB/s eta 0:00:23\n",
      "     ------------- ----------------------- 176.7/490.3 MB 14.2 MB/s eta 0:00:23\n",
      "     ------------- ----------------------- 177.4/490.3 MB 14.6 MB/s eta 0:00:22\n",
      "     ------------- ----------------------- 178.1/490.3 MB 15.2 MB/s eta 0:00:21\n",
      "     ------------- ----------------------- 178.5/490.3 MB 14.6 MB/s eta 0:00:22\n",
      "     ------------- ----------------------- 178.6/490.3 MB 13.9 MB/s eta 0:00:23\n",
      "     ------------- ----------------------- 179.3/490.3 MB 14.2 MB/s eta 0:00:22\n",
      "     ------------- ----------------------- 180.0/490.3 MB 14.2 MB/s eta 0:00:22\n",
      "     ------------- ----------------------- 180.7/490.3 MB 14.2 MB/s eta 0:00:22\n",
      "     ------------- ----------------------- 181.3/490.3 MB 13.9 MB/s eta 0:00:23\n",
      "     ------------- ----------------------- 182.0/490.3 MB 13.9 MB/s eta 0:00:23\n",
      "     ------------- ----------------------- 182.7/490.3 MB 13.9 MB/s eta 0:00:23\n",
      "     ------------- ----------------------- 183.3/490.3 MB 13.6 MB/s eta 0:00:23\n",
      "     ------------- ----------------------- 184.0/490.3 MB 13.6 MB/s eta 0:00:23\n",
      "     ------------- ----------------------- 184.8/490.3 MB 13.6 MB/s eta 0:00:23\n",
      "     -------------- ---------------------- 185.6/490.3 MB 13.9 MB/s eta 0:00:22\n",
      "     -------------- ---------------------- 186.4/490.3 MB 13.9 MB/s eta 0:00:22\n",
      "     -------------- ---------------------- 187.2/490.3 MB 13.9 MB/s eta 0:00:22\n",
      "     -------------- ---------------------- 187.9/490.3 MB 13.9 MB/s eta 0:00:22\n",
      "     -------------- ---------------------- 188.6/490.3 MB 14.2 MB/s eta 0:00:22\n",
      "     -------------- ---------------------- 189.5/490.3 MB 15.6 MB/s eta 0:00:20\n",
      "     -------------- ---------------------- 190.1/490.3 MB 15.6 MB/s eta 0:00:20\n",
      "     -------------- ---------------------- 191.0/490.3 MB 16.0 MB/s eta 0:00:19\n",
      "     -------------- ---------------------- 191.6/490.3 MB 16.0 MB/s eta 0:00:19\n",
      "     -------------- ---------------------- 192.5/490.3 MB 15.6 MB/s eta 0:00:20\n",
      "     -------------- ---------------------- 193.4/490.3 MB 16.4 MB/s eta 0:00:19\n",
      "     -------------- ---------------------- 194.1/490.3 MB 16.4 MB/s eta 0:00:19\n",
      "     -------------- ---------------------- 195.1/490.3 MB 16.8 MB/s eta 0:00:18\n",
      "     -------------- ---------------------- 195.7/490.3 MB 16.4 MB/s eta 0:00:18\n",
      "     -------------- ---------------------- 196.6/490.3 MB 16.4 MB/s eta 0:00:18\n",
      "     -------------- ---------------------- 197.5/490.3 MB 16.8 MB/s eta 0:00:18\n",
      "     -------------- ---------------------- 198.5/490.3 MB 17.2 MB/s eta 0:00:17\n",
      "     --------------- --------------------- 199.3/490.3 MB 17.2 MB/s eta 0:00:17\n",
      "     --------------- --------------------- 200.0/490.3 MB 16.8 MB/s eta 0:00:18\n",
      "     --------------- --------------------- 200.7/490.3 MB 16.8 MB/s eta 0:00:18\n",
      "     --------------- --------------------- 201.4/490.3 MB 16.8 MB/s eta 0:00:18\n",
      "     --------------- --------------------- 202.3/490.3 MB 17.7 MB/s eta 0:00:17\n",
      "     --------------- --------------------- 203.2/490.3 MB 17.7 MB/s eta 0:00:17\n",
      "     --------------- --------------------- 204.1/490.3 MB 17.7 MB/s eta 0:00:17\n",
      "     --------------- --------------------- 205.0/490.3 MB 17.7 MB/s eta 0:00:17\n",
      "     --------------- --------------------- 205.8/490.3 MB 17.7 MB/s eta 0:00:17\n",
      "     --------------- --------------------- 206.6/490.3 MB 17.7 MB/s eta 0:00:17\n",
      "     --------------- --------------------- 207.5/490.3 MB 17.7 MB/s eta 0:00:16\n",
      "     --------------- --------------------- 208.5/490.3 MB 18.2 MB/s eta 0:00:16\n",
      "     --------------- --------------------- 209.5/490.3 MB 18.2 MB/s eta 0:00:16\n",
      "     --------------- --------------------- 210.8/490.3 MB 19.8 MB/s eta 0:00:15\n",
      "     --------------- --------------------- 211.6/490.3 MB 19.8 MB/s eta 0:00:15\n",
      "     ---------------- -------------------- 212.2/490.3 MB 18.7 MB/s eta 0:00:15\n",
      "     ---------------- -------------------- 212.8/490.3 MB 18.7 MB/s eta 0:00:15\n",
      "     ---------------- -------------------- 213.8/490.3 MB 18.2 MB/s eta 0:00:16\n",
      "     ---------------- -------------------- 214.7/490.3 MB 18.7 MB/s eta 0:00:15\n",
      "     ---------------- -------------------- 215.5/490.3 MB 18.7 MB/s eta 0:00:15\n",
      "     ---------------- -------------------- 216.6/490.3 MB 19.3 MB/s eta 0:00:15\n",
      "     ---------------- -------------------- 217.6/490.3 MB 19.3 MB/s eta 0:00:15\n",
      "     ---------------- -------------------- 218.5/490.3 MB 19.3 MB/s eta 0:00:15\n",
      "     ---------------- -------------------- 219.5/490.3 MB 19.2 MB/s eta 0:00:15\n",
      "     ---------------- -------------------- 219.8/490.3 MB 18.2 MB/s eta 0:00:15\n",
      "     ---------------- -------------------- 220.2/490.3 MB 17.3 MB/s eta 0:00:16\n",
      "     ---------------- -------------------- 220.9/490.3 MB 16.8 MB/s eta 0:00:17\n",
      "     ---------------- -------------------- 221.8/490.3 MB 16.8 MB/s eta 0:00:16\n",
      "     ---------------- -------------------- 222.8/490.3 MB 17.7 MB/s eta 0:00:16\n",
      "     ---------------- -------------------- 223.8/490.3 MB 18.2 MB/s eta 0:00:15\n",
      "     ---------------- -------------------- 224.8/490.3 MB 18.2 MB/s eta 0:00:15\n",
      "     ----------------- ------------------- 225.9/490.3 MB 18.7 MB/s eta 0:00:15\n",
      "     ----------------- ------------------- 226.5/490.3 MB 17.7 MB/s eta 0:00:15\n",
      "     ----------------- ------------------- 227.0/490.3 MB 17.3 MB/s eta 0:00:16\n",
      "     ----------------- ------------------- 227.6/490.3 MB 16.8 MB/s eta 0:00:16\n",
      "     ----------------- ------------------- 228.1/490.3 MB 16.4 MB/s eta 0:00:17\n",
      "     ----------------- ------------------- 228.7/490.3 MB 15.6 MB/s eta 0:00:17\n",
      "     ----------------- ------------------- 229.2/490.3 MB 15.2 MB/s eta 0:00:18\n",
      "     ----------------- ------------------- 229.8/490.3 MB 14.9 MB/s eta 0:00:18\n",
      "     ----------------- ------------------- 230.4/490.3 MB 15.6 MB/s eta 0:00:17\n",
      "     ----------------- ------------------- 230.9/490.3 MB 15.6 MB/s eta 0:00:17\n",
      "     ----------------- ------------------- 231.7/490.3 MB 15.2 MB/s eta 0:00:17\n",
      "     ----------------- ------------------- 232.8/490.3 MB 15.6 MB/s eta 0:00:17\n",
      "     ----------------- ------------------- 233.8/490.3 MB 15.2 MB/s eta 0:00:17\n",
      "     ----------------- ------------------- 235.0/490.3 MB 15.6 MB/s eta 0:00:17\n",
      "     ----------------- ------------------- 236.0/490.3 MB 15.6 MB/s eta 0:00:17\n",
      "     ----------------- ------------------- 237.2/490.3 MB 16.8 MB/s eta 0:00:16\n",
      "     ----------------- ------------------- 238.2/490.3 MB 18.2 MB/s eta 0:00:14\n",
      "     ------------------ ------------------ 239.2/490.3 MB 19.2 MB/s eta 0:00:14\n",
      "     ------------------ ------------------ 240.3/490.3 MB 20.5 MB/s eta 0:00:13\n",
      "     ------------------ ------------------ 241.0/490.3 MB 21.9 MB/s eta 0:00:12\n",
      "     ------------------ ------------------ 241.5/490.3 MB 21.1 MB/s eta 0:00:12\n",
      "     ------------------ ------------------ 241.9/490.3 MB 19.8 MB/s eta 0:00:13\n",
      "     ------------------ ------------------ 242.6/490.3 MB 19.3 MB/s eta 0:00:13\n",
      "     ------------------ ------------------ 243.2/490.3 MB 18.7 MB/s eta 0:00:14\n",
      "     ------------------ ------------------ 243.9/490.3 MB 18.2 MB/s eta 0:00:14\n",
      "     ------------------ ------------------ 244.4/490.3 MB 17.7 MB/s eta 0:00:14\n",
      "     ------------------ ------------------ 245.3/490.3 MB 17.3 MB/s eta 0:00:15\n",
      "     ------------------ ------------------ 246.2/490.3 MB 16.8 MB/s eta 0:00:15\n",
      "     ------------------ ------------------ 247.2/490.3 MB 16.8 MB/s eta 0:00:15\n",
      "     ------------------ ------------------ 248.1/490.3 MB 16.4 MB/s eta 0:00:15\n",
      "     ------------------ ------------------ 249.0/490.3 MB 16.4 MB/s eta 0:00:15\n",
      "     ------------------ ------------------ 249.7/490.3 MB 16.0 MB/s eta 0:00:16\n",
      "     ------------------ ------------------ 250.6/490.3 MB 16.0 MB/s eta 0:00:16\n",
      "     ------------------ ------------------ 251.1/490.3 MB 15.2 MB/s eta 0:00:16\n",
      "     ------------------ ------------------ 251.7/490.3 MB 16.0 MB/s eta 0:00:15\n",
      "     ------------------- ----------------- 252.3/490.3 MB 16.0 MB/s eta 0:00:15\n",
      "     ------------------- ----------------- 252.9/490.3 MB 16.0 MB/s eta 0:00:15\n",
      "     ------------------- ----------------- 253.7/490.3 MB 16.4 MB/s eta 0:00:15\n",
      "     ------------------- ----------------- 254.7/490.3 MB 17.2 MB/s eta 0:00:14\n",
      "     ------------------- ----------------- 255.6/490.3 MB 17.2 MB/s eta 0:00:14\n",
      "     ------------------- ----------------- 256.4/490.3 MB 16.8 MB/s eta 0:00:14\n",
      "     ------------------- ----------------- 257.2/490.3 MB 16.8 MB/s eta 0:00:14\n",
      "     ------------------- ----------------- 258.2/490.3 MB 16.8 MB/s eta 0:00:14\n",
      "     ------------------- ----------------- 258.8/490.3 MB 16.8 MB/s eta 0:00:14\n",
      "     ------------------- ----------------- 259.5/490.3 MB 16.4 MB/s eta 0:00:15\n",
      "     ------------------- ----------------- 260.0/490.3 MB 16.0 MB/s eta 0:00:15\n",
      "     ------------------- ----------------- 260.6/490.3 MB 15.6 MB/s eta 0:00:15\n",
      "     ------------------- ----------------- 261.4/490.3 MB 16.0 MB/s eta 0:00:15\n",
      "     ------------------- ----------------- 262.2/490.3 MB 16.4 MB/s eta 0:00:14\n",
      "     ------------------- ----------------- 263.0/490.3 MB 16.8 MB/s eta 0:00:14\n",
      "     ------------------- ----------------- 263.6/490.3 MB 16.4 MB/s eta 0:00:14\n",
      "     ------------------- ----------------- 264.3/490.3 MB 16.4 MB/s eta 0:00:14\n",
      "     ------------------- ----------------- 264.7/490.3 MB 15.6 MB/s eta 0:00:15\n",
      "     -------------------- ---------------- 265.2/490.3 MB 15.2 MB/s eta 0:00:15\n",
      "     -------------------- ---------------- 265.7/490.3 MB 14.6 MB/s eta 0:00:16\n",
      "     -------------------- ---------------- 266.4/490.3 MB 14.6 MB/s eta 0:00:16\n",
      "     -------------------- ---------------- 267.1/490.3 MB 14.2 MB/s eta 0:00:16\n",
      "     -------------------- ---------------- 267.8/490.3 MB 14.2 MB/s eta 0:00:16\n",
      "     -------------------- ---------------- 268.5/490.3 MB 13.9 MB/s eta 0:00:16\n",
      "     -------------------- ---------------- 268.9/490.3 MB 13.6 MB/s eta 0:00:17\n",
      "     -------------------- ---------------- 269.6/490.3 MB 13.6 MB/s eta 0:00:17\n",
      "     -------------------- ---------------- 270.3/490.3 MB 13.9 MB/s eta 0:00:16\n",
      "     -------------------- ---------------- 271.1/490.3 MB 14.2 MB/s eta 0:00:16\n",
      "     -------------------- ---------------- 271.7/490.3 MB 13.9 MB/s eta 0:00:16\n",
      "     -------------------- ---------------- 272.3/490.3 MB 13.6 MB/s eta 0:00:16\n",
      "     -------------------- ---------------- 272.8/490.3 MB 13.1 MB/s eta 0:00:17\n",
      "     -------------------- ---------------- 273.3/490.3 MB 13.1 MB/s eta 0:00:17\n",
      "     -------------------- ---------------- 273.8/490.3 MB 12.8 MB/s eta 0:00:17\n",
      "     -------------------- ---------------- 274.4/490.3 MB 12.6 MB/s eta 0:00:18\n",
      "     -------------------- ---------------- 274.9/490.3 MB 13.1 MB/s eta 0:00:17\n",
      "     -------------------- ---------------- 275.4/490.3 MB 12.8 MB/s eta 0:00:17\n",
      "     -------------------- ---------------- 276.0/490.3 MB 12.8 MB/s eta 0:00:17\n",
      "     -------------------- ---------------- 276.5/490.3 MB 12.8 MB/s eta 0:00:17\n",
      "     -------------------- ---------------- 277.0/490.3 MB 12.4 MB/s eta 0:00:18\n",
      "     -------------------- ---------------- 277.4/490.3 MB 12.4 MB/s eta 0:00:18\n",
      "     -------------------- ---------------- 277.9/490.3 MB 11.9 MB/s eta 0:00:18\n",
      "     --------------------- --------------- 278.4/490.3 MB 11.7 MB/s eta 0:00:19\n",
      "     --------------------- --------------- 278.8/490.3 MB 11.7 MB/s eta 0:00:19\n",
      "     --------------------- --------------- 279.2/490.3 MB 11.5 MB/s eta 0:00:19\n",
      "     --------------------- --------------- 279.8/490.3 MB 11.5 MB/s eta 0:00:19\n",
      "     --------------------- --------------- 280.5/490.3 MB 11.5 MB/s eta 0:00:19\n",
      "     --------------------- --------------- 281.1/490.3 MB 11.3 MB/s eta 0:00:19\n",
      "     --------------------- --------------- 281.7/490.3 MB 11.3 MB/s eta 0:00:19\n",
      "     --------------------- --------------- 282.2/490.3 MB 11.3 MB/s eta 0:00:19\n",
      "     --------------------- --------------- 282.8/490.3 MB 11.3 MB/s eta 0:00:19\n",
      "     --------------------- --------------- 283.3/490.3 MB 11.3 MB/s eta 0:00:19\n",
      "     --------------------- --------------- 283.7/490.3 MB 11.1 MB/s eta 0:00:19\n",
      "     --------------------- --------------- 284.3/490.3 MB 11.1 MB/s eta 0:00:19\n",
      "     --------------------- --------------- 284.9/490.3 MB 11.3 MB/s eta 0:00:19\n",
      "     --------------------- --------------- 285.6/490.3 MB 11.5 MB/s eta 0:00:18\n",
      "     --------------------- --------------- 286.2/490.3 MB 11.9 MB/s eta 0:00:18\n",
      "     --------------------- --------------- 286.3/490.3 MB 11.5 MB/s eta 0:00:18\n",
      "     --------------------- --------------- 286.5/490.3 MB 10.7 MB/s eta 0:00:20\n",
      "     --------------------- --------------- 287.3/490.3 MB 11.1 MB/s eta 0:00:19\n",
      "     --------------------- --------------- 288.1/490.3 MB 11.5 MB/s eta 0:00:18\n",
      "     --------------------- --------------- 288.8/490.3 MB 11.7 MB/s eta 0:00:18\n",
      "     --------------------- --------------- 289.3/490.3 MB 11.9 MB/s eta 0:00:17\n",
      "     --------------------- --------------- 290.0/490.3 MB 12.1 MB/s eta 0:00:17\n",
      "     --------------------- --------------- 290.5/490.3 MB 11.9 MB/s eta 0:00:17\n",
      "     --------------------- --------------- 291.0/490.3 MB 11.9 MB/s eta 0:00:17\n",
      "     ---------------------- -------------- 291.7/490.3 MB 11.9 MB/s eta 0:00:17\n",
      "     ---------------------- -------------- 292.5/490.3 MB 12.1 MB/s eta 0:00:17\n",
      "     ---------------------- -------------- 293.4/490.3 MB 12.6 MB/s eta 0:00:16\n",
      "     ---------------------- -------------- 294.1/490.3 MB 13.1 MB/s eta 0:00:15\n",
      "     ---------------------- -------------- 294.6/490.3 MB 13.4 MB/s eta 0:00:15\n",
      "     ---------------------- -------------- 295.0/490.3 MB 12.6 MB/s eta 0:00:16\n",
      "     ---------------------- -------------- 295.5/490.3 MB 12.8 MB/s eta 0:00:16\n",
      "     ---------------------- -------------- 296.0/490.3 MB 12.6 MB/s eta 0:00:16\n",
      "     ---------------------- -------------- 296.6/490.3 MB 13.4 MB/s eta 0:00:15\n",
      "     ---------------------- -------------- 297.2/490.3 MB 13.6 MB/s eta 0:00:15\n",
      "     ---------------------- -------------- 297.7/490.3 MB 13.4 MB/s eta 0:00:15\n",
      "     ---------------------- -------------- 298.5/490.3 MB 13.4 MB/s eta 0:00:15\n",
      "     ---------------------- -------------- 299.5/490.3 MB 13.9 MB/s eta 0:00:14\n",
      "     ---------------------- -------------- 300.4/490.3 MB 14.2 MB/s eta 0:00:14\n",
      "     ---------------------- -------------- 301.4/490.3 MB 15.2 MB/s eta 0:00:13\n",
      "     ---------------------- -------------- 302.4/490.3 MB 15.6 MB/s eta 0:00:13\n",
      "     ---------------------- -------------- 303.5/490.3 MB 15.6 MB/s eta 0:00:12\n",
      "     ---------------------- -------------- 304.4/490.3 MB 16.0 MB/s eta 0:00:12\n",
      "     ----------------------- ------------- 305.4/490.3 MB 17.2 MB/s eta 0:00:11\n",
      "     ----------------------- ------------- 306.4/490.3 MB 19.2 MB/s eta 0:00:10\n",
      "     ----------------------- ------------- 306.6/490.3 MB 17.7 MB/s eta 0:00:11\n",
      "     ----------------------- ------------- 307.4/490.3 MB 18.2 MB/s eta 0:00:11\n",
      "     ----------------------- ------------- 308.4/490.3 MB 19.3 MB/s eta 0:00:10\n",
      "     ----------------------- ------------- 309.9/490.3 MB 19.8 MB/s eta 0:00:10\n",
      "     ----------------------- ------------- 310.9/490.3 MB 19.8 MB/s eta 0:00:10\n",
      "     ----------------------- ------------- 311.8/490.3 MB 19.9 MB/s eta 0:00:09\n",
      "     ----------------------- ------------- 312.8/490.3 MB 19.9 MB/s eta 0:00:09\n",
      "     ----------------------- ------------- 313.7/490.3 MB 19.9 MB/s eta 0:00:09\n",
      "     ----------------------- ------------- 314.8/490.3 MB 19.8 MB/s eta 0:00:09\n",
      "     ----------------------- ------------- 315.8/490.3 MB 19.8 MB/s eta 0:00:09\n",
      "     ----------------------- ------------- 316.7/490.3 MB 21.1 MB/s eta 0:00:09\n",
      "     ----------------------- ------------- 317.6/490.3 MB 21.8 MB/s eta 0:00:08\n",
      "     ------------------------ ------------ 318.6/490.3 MB 21.1 MB/s eta 0:00:09\n",
      "     ------------------------ ------------ 319.4/490.3 MB 20.5 MB/s eta 0:00:09\n",
      "     ------------------------ ------------ 320.4/490.3 MB 20.5 MB/s eta 0:00:09\n",
      "     ------------------------ ------------ 321.5/490.3 MB 20.5 MB/s eta 0:00:09\n",
      "     ------------------------ ------------ 322.4/490.3 MB 20.5 MB/s eta 0:00:09\n",
      "     ------------------------ ------------ 323.4/490.3 MB 21.1 MB/s eta 0:00:08\n",
      "     ------------------------ ------------ 324.1/490.3 MB 21.1 MB/s eta 0:00:08\n",
      "     ------------------------ ------------ 324.5/490.3 MB 19.2 MB/s eta 0:00:09\n",
      "     ------------------------ ------------ 325.3/490.3 MB 19.3 MB/s eta 0:00:09\n",
      "     ------------------------ ------------ 326.2/490.3 MB 18.7 MB/s eta 0:00:09\n",
      "     ------------------------ ------------ 327.3/490.3 MB 18.7 MB/s eta 0:00:09\n",
      "     ------------------------ ------------ 328.3/490.3 MB 19.2 MB/s eta 0:00:09\n",
      "     ------------------------ ------------ 329.6/490.3 MB 19.3 MB/s eta 0:00:09\n",
      "     ------------------------ ------------ 330.8/490.3 MB 19.8 MB/s eta 0:00:09\n",
      "     ------------------------- ----------- 332.0/490.3 MB 21.1 MB/s eta 0:00:08\n",
      "     ------------------------- ----------- 333.0/490.3 MB 21.1 MB/s eta 0:00:08\n",
      "     ------------------------- ----------- 333.7/490.3 MB 20.5 MB/s eta 0:00:08\n",
      "     ------------------------- ----------- 334.5/490.3 MB 20.5 MB/s eta 0:00:08\n",
      "     ------------------------- ----------- 335.0/490.3 MB 20.5 MB/s eta 0:00:08\n",
      "     ------------------------- ----------- 335.2/490.3 MB 19.8 MB/s eta 0:00:08\n",
      "     ------------------------- ----------- 335.7/490.3 MB 18.2 MB/s eta 0:00:09\n",
      "     ------------------------- ----------- 336.1/490.3 MB 17.2 MB/s eta 0:00:09\n",
      "     ------------------------- ----------- 336.6/490.3 MB 16.8 MB/s eta 0:00:10\n",
      "     ------------------------- ----------- 337.2/490.3 MB 16.4 MB/s eta 0:00:10\n",
      "     ------------------------- ----------- 337.8/490.3 MB 16.0 MB/s eta 0:00:10\n",
      "     ------------------------- ----------- 338.4/490.3 MB 15.2 MB/s eta 0:00:10\n",
      "     ------------------------- ----------- 338.9/490.3 MB 14.9 MB/s eta 0:00:11\n",
      "     ------------------------- ----------- 339.6/490.3 MB 14.2 MB/s eta 0:00:11\n",
      "     ------------------------- ----------- 340.1/490.3 MB 13.9 MB/s eta 0:00:11\n",
      "     ------------------------- ----------- 341.2/490.3 MB 13.6 MB/s eta 0:00:11\n",
      "     ------------------------- ----------- 342.5/490.3 MB 13.9 MB/s eta 0:00:11\n",
      "     ------------------------- ----------- 343.7/490.3 MB 13.9 MB/s eta 0:00:11\n",
      "     -------------------------- ---------- 344.9/490.3 MB 15.2 MB/s eta 0:00:10\n",
      "     -------------------------- ---------- 346.0/490.3 MB 17.7 MB/s eta 0:00:09\n",
      "     -------------------------- ---------- 347.1/490.3 MB 19.3 MB/s eta 0:00:08\n",
      "     -------------------------- ---------- 348.2/490.3 MB 20.5 MB/s eta 0:00:07\n",
      "     -------------------------- ---------- 349.4/490.3 MB 23.4 MB/s eta 0:00:07\n",
      "     -------------------------- ---------- 350.4/490.3 MB 25.2 MB/s eta 0:00:06\n",
      "     -------------------------- ---------- 351.1/490.3 MB 23.4 MB/s eta 0:00:06\n",
      "     -------------------------- ---------- 351.7/490.3 MB 22.6 MB/s eta 0:00:07\n",
      "     -------------------------- ---------- 352.3/490.3 MB 21.1 MB/s eta 0:00:07\n",
      "     -------------------------- ---------- 353.0/490.3 MB 20.5 MB/s eta 0:00:07\n",
      "     -------------------------- ---------- 354.0/490.3 MB 20.5 MB/s eta 0:00:07\n",
      "     -------------------------- ---------- 355.1/490.3 MB 19.9 MB/s eta 0:00:07\n",
      "     -------------------------- ---------- 356.1/490.3 MB 19.8 MB/s eta 0:00:07\n",
      "     -------------------------- ---------- 357.0/490.3 MB 19.3 MB/s eta 0:00:07\n",
      "     -------------------------- ---------- 357.8/490.3 MB 18.7 MB/s eta 0:00:08\n",
      "     --------------------------- --------- 358.7/490.3 MB 18.7 MB/s eta 0:00:08\n",
      "     --------------------------- --------- 359.5/490.3 MB 18.2 MB/s eta 0:00:08\n",
      "     --------------------------- --------- 359.8/490.3 MB 17.3 MB/s eta 0:00:08\n",
      "     --------------------------- --------- 360.7/490.3 MB 17.3 MB/s eta 0:00:08\n",
      "     --------------------------- --------- 361.6/490.3 MB 17.2 MB/s eta 0:00:08\n",
      "     --------------------------- --------- 362.5/490.3 MB 18.2 MB/s eta 0:00:08\n",
      "     --------------------------- --------- 363.3/490.3 MB 18.2 MB/s eta 0:00:07\n",
      "     --------------------------- --------- 364.1/490.3 MB 18.2 MB/s eta 0:00:07\n",
      "     --------------------------- --------- 365.0/490.3 MB 17.7 MB/s eta 0:00:08\n",
      "     --------------------------- --------- 365.9/490.3 MB 17.7 MB/s eta 0:00:08\n",
      "     --------------------------- --------- 366.5/490.3 MB 16.8 MB/s eta 0:00:08\n",
      "     --------------------------- --------- 367.5/490.3 MB 17.3 MB/s eta 0:00:08\n",
      "     --------------------------- --------- 368.4/490.3 MB 17.2 MB/s eta 0:00:08\n",
      "     --------------------------- --------- 369.2/490.3 MB 17.2 MB/s eta 0:00:08\n",
      "     --------------------------- --------- 370.0/490.3 MB 18.2 MB/s eta 0:00:07\n",
      "     --------------------------- --------- 371.0/490.3 MB 18.2 MB/s eta 0:00:07\n",
      "     ---------------------------- -------- 372.0/490.3 MB 18.7 MB/s eta 0:00:07\n",
      "     ---------------------------- -------- 373.0/490.3 MB 19.3 MB/s eta 0:00:07\n",
      "     ---------------------------- -------- 373.6/490.3 MB 18.7 MB/s eta 0:00:07\n",
      "     ---------------------------- -------- 374.6/490.3 MB 19.2 MB/s eta 0:00:07\n",
      "     ---------------------------- -------- 375.5/490.3 MB 19.2 MB/s eta 0:00:06\n",
      "     ---------------------------- -------- 376.6/490.3 MB 19.9 MB/s eta 0:00:06\n",
      "     ---------------------------- -------- 377.6/490.3 MB 19.9 MB/s eta 0:00:06\n",
      "     ---------------------------- -------- 378.3/490.3 MB 19.9 MB/s eta 0:00:06\n",
      "     ---------------------------- -------- 379.3/490.3 MB 19.8 MB/s eta 0:00:06\n",
      "     ---------------------------- -------- 380.3/490.3 MB 20.5 MB/s eta 0:00:06\n",
      "     ---------------------------- -------- 381.2/490.3 MB 20.5 MB/s eta 0:00:06\n",
      "     ---------------------------- -------- 382.2/490.3 MB 20.5 MB/s eta 0:00:06\n",
      "     ---------------------------- -------- 383.0/490.3 MB 19.8 MB/s eta 0:00:06\n",
      "     ---------------------------- -------- 384.0/490.3 MB 20.5 MB/s eta 0:00:06\n",
      "     ----------------------------- ------- 385.0/490.3 MB 20.5 MB/s eta 0:00:06\n",
      "     ----------------------------- ------- 386.0/490.3 MB 20.5 MB/s eta 0:00:06\n",
      "     ----------------------------- ------- 387.0/490.3 MB 20.5 MB/s eta 0:00:06\n",
      "     ----------------------------- ------- 388.0/490.3 MB 20.5 MB/s eta 0:00:06\n",
      "     ----------------------------- ------- 389.0/490.3 MB 20.5 MB/s eta 0:00:05\n",
      "     ----------------------------- ------- 389.9/490.3 MB 20.5 MB/s eta 0:00:05\n",
      "     ----------------------------- ------- 390.7/490.3 MB 20.5 MB/s eta 0:00:05\n",
      "     ----------------------------- ------- 392.0/490.3 MB 20.5 MB/s eta 0:00:05\n",
      "     ----------------------------- ------- 393.2/490.3 MB 20.5 MB/s eta 0:00:05\n",
      "     ----------------------------- ------- 394.4/490.3 MB 21.1 MB/s eta 0:00:05\n",
      "     ----------------------------- ------- 395.3/490.3 MB 21.8 MB/s eta 0:00:05\n",
      "     ----------------------------- ------- 396.3/490.3 MB 21.8 MB/s eta 0:00:05\n",
      "     ----------------------------- ------- 397.1/490.3 MB 20.5 MB/s eta 0:00:05\n",
      "     ------------------------------ ------ 397.8/490.3 MB 19.8 MB/s eta 0:00:05\n",
      "     ------------------------------ ------ 398.5/490.3 MB 19.3 MB/s eta 0:00:05\n",
      "     ------------------------------ ------ 399.2/490.3 MB 18.7 MB/s eta 0:00:05\n",
      "     ------------------------------ ------ 400.0/490.3 MB 18.2 MB/s eta 0:00:05\n",
      "     ------------------------------ ------ 400.8/490.3 MB 18.7 MB/s eta 0:00:05\n",
      "     ------------------------------ ------ 401.6/490.3 MB 18.2 MB/s eta 0:00:05\n",
      "     ------------------------------ ------ 402.4/490.3 MB 18.2 MB/s eta 0:00:05\n",
      "     ------------------------------ ------ 402.9/490.3 MB 17.7 MB/s eta 0:00:05\n",
      "     ------------------------------ ------ 403.6/490.3 MB 17.2 MB/s eta 0:00:06\n",
      "     ------------------------------ ------ 404.4/490.3 MB 16.4 MB/s eta 0:00:06\n",
      "     ------------------------------ ------ 405.1/490.3 MB 16.0 MB/s eta 0:00:06\n",
      "     ------------------------------ ------ 405.7/490.3 MB 15.6 MB/s eta 0:00:06\n",
      "     ------------------------------ ------ 406.7/490.3 MB 15.6 MB/s eta 0:00:06\n",
      "     ------------------------------ ------ 407.3/490.3 MB 15.6 MB/s eta 0:00:06\n",
      "     ------------------------------ ------ 408.3/490.3 MB 16.0 MB/s eta 0:00:06\n",
      "     ------------------------------ ------ 409.2/490.3 MB 16.4 MB/s eta 0:00:05\n",
      "     ------------------------------ ------ 410.2/490.3 MB 16.8 MB/s eta 0:00:05\n",
      "     ------------------------------- ----- 411.2/490.3 MB 17.2 MB/s eta 0:00:05\n",
      "     ------------------------------- ----- 411.9/490.3 MB 16.8 MB/s eta 0:00:05\n",
      "     ------------------------------- ----- 412.9/490.3 MB 17.7 MB/s eta 0:00:05\n",
      "     ------------------------------- ----- 413.6/490.3 MB 17.7 MB/s eta 0:00:05\n",
      "     ------------------------------- ----- 414.2/490.3 MB 17.3 MB/s eta 0:00:05\n",
      "     ------------------------------- ----- 415.0/490.3 MB 17.7 MB/s eta 0:00:05\n",
      "     ------------------------------- ----- 415.7/490.3 MB 17.7 MB/s eta 0:00:05\n",
      "     ------------------------------- ----- 416.4/490.3 MB 17.2 MB/s eta 0:00:05\n",
      "     ------------------------------- ----- 417.4/490.3 MB 17.7 MB/s eta 0:00:05\n",
      "     ------------------------------- ----- 418.4/490.3 MB 18.2 MB/s eta 0:00:04\n",
      "     ------------------------------- ----- 419.4/490.3 MB 18.2 MB/s eta 0:00:04\n",
      "     ------------------------------- ----- 420.3/490.3 MB 18.2 MB/s eta 0:00:04\n",
      "     ------------------------------- ----- 421.2/490.3 MB 17.7 MB/s eta 0:00:04\n",
      "     ------------------------------- ----- 422.1/490.3 MB 18.2 MB/s eta 0:00:04\n",
      "     ------------------------------- ----- 422.7/490.3 MB 17.7 MB/s eta 0:00:04\n",
      "     ------------------------------- ----- 423.6/490.3 MB 17.7 MB/s eta 0:00:04\n",
      "     -------------------------------- ---- 424.3/490.3 MB 18.2 MB/s eta 0:00:04\n",
      "     -------------------------------- ---- 425.1/490.3 MB 18.2 MB/s eta 0:00:04\n",
      "     -------------------------------- ---- 425.7/490.3 MB 18.2 MB/s eta 0:00:04\n",
      "     -------------------------------- ---- 427.0/490.3 MB 18.7 MB/s eta 0:00:04\n",
      "     -------------------------------- ---- 427.9/490.3 MB 18.2 MB/s eta 0:00:04\n",
      "     -------------------------------- ---- 428.7/490.3 MB 18.2 MB/s eta 0:00:04\n",
      "     -------------------------------- ---- 429.5/490.3 MB 17.7 MB/s eta 0:00:04\n",
      "     -------------------------------- ---- 430.2/490.3 MB 17.2 MB/s eta 0:00:04\n",
      "     -------------------------------- ---- 430.3/490.3 MB 17.2 MB/s eta 0:00:04\n",
      "     -------------------------------- ---- 430.5/490.3 MB 15.2 MB/s eta 0:00:04\n",
      "     -------------------------------- ---- 431.0/490.3 MB 14.9 MB/s eta 0:00:04\n",
      "     -------------------------------- ---- 431.6/490.3 MB 14.6 MB/s eta 0:00:05\n",
      "     -------------------------------- ---- 432.2/490.3 MB 14.2 MB/s eta 0:00:05\n",
      "     -------------------------------- ---- 432.9/490.3 MB 14.2 MB/s eta 0:00:05\n",
      "     -------------------------------- ---- 433.6/490.3 MB 14.2 MB/s eta 0:00:04\n",
      "     -------------------------------- ---- 434.4/490.3 MB 14.2 MB/s eta 0:00:04\n",
      "     -------------------------------- ---- 435.2/490.3 MB 14.2 MB/s eta 0:00:04\n",
      "     -------------------------------- ---- 435.9/490.3 MB 14.2 MB/s eta 0:00:04\n",
      "     -------------------------------- ---- 436.7/490.3 MB 14.2 MB/s eta 0:00:04\n",
      "     --------------------------------- --- 437.4/490.3 MB 13.9 MB/s eta 0:00:04\n",
      "     --------------------------------- --- 438.0/490.3 MB 13.6 MB/s eta 0:00:04\n",
      "     --------------------------------- --- 438.9/490.3 MB 13.6 MB/s eta 0:00:04\n",
      "     --------------------------------- --- 439.6/490.3 MB 13.6 MB/s eta 0:00:04\n",
      "     --------------------------------- --- 440.6/490.3 MB 14.9 MB/s eta 0:00:04\n",
      "     --------------------------------- --- 441.2/490.3 MB 15.6 MB/s eta 0:00:04\n",
      "     --------------------------------- --- 441.9/490.3 MB 15.6 MB/s eta 0:00:04\n",
      "     --------------------------------- --- 442.6/490.3 MB 15.6 MB/s eta 0:00:04\n",
      "     --------------------------------- --- 443.4/490.3 MB 15.2 MB/s eta 0:00:04\n",
      "     --------------------------------- --- 444.1/490.3 MB 15.2 MB/s eta 0:00:04\n",
      "     --------------------------------- --- 444.9/490.3 MB 15.2 MB/s eta 0:00:03\n",
      "     --------------------------------- --- 445.5/490.3 MB 15.2 MB/s eta 0:00:03\n",
      "     --------------------------------- --- 446.3/490.3 MB 15.2 MB/s eta 0:00:03\n",
      "     --------------------------------- --- 446.9/490.3 MB 14.9 MB/s eta 0:00:03\n",
      "     --------------------------------- --- 447.5/490.3 MB 14.9 MB/s eta 0:00:03\n",
      "     --------------------------------- --- 448.1/490.3 MB 14.6 MB/s eta 0:00:03\n",
      "     --------------------------------- --- 448.7/490.3 MB 14.6 MB/s eta 0:00:03\n",
      "     --------------------------------- --- 449.4/490.3 MB 14.2 MB/s eta 0:00:03\n",
      "     --------------------------------- --- 449.5/490.3 MB 14.2 MB/s eta 0:00:03\n",
      "     --------------------------------- --- 449.7/490.3 MB 13.1 MB/s eta 0:00:04\n",
      "     --------------------------------- --- 450.4/490.3 MB 12.8 MB/s eta 0:00:04\n",
      "     ---------------------------------- -- 451.2/490.3 MB 12.8 MB/s eta 0:00:04\n",
      "     ---------------------------------- -- 451.8/490.3 MB 12.8 MB/s eta 0:00:03\n",
      "     ---------------------------------- -- 452.5/490.3 MB 12.9 MB/s eta 0:00:03\n",
      "     ---------------------------------- -- 453.2/490.3 MB 12.8 MB/s eta 0:00:03\n",
      "     ---------------------------------- -- 454.0/490.3 MB 12.8 MB/s eta 0:00:03\n",
      "     ---------------------------------- -- 454.7/490.3 MB 12.8 MB/s eta 0:00:03\n",
      "     ---------------------------------- -- 455.4/490.3 MB 12.8 MB/s eta 0:00:03\n",
      "     ---------------------------------- -- 456.0/490.3 MB 12.8 MB/s eta 0:00:03\n",
      "     ---------------------------------- -- 456.9/490.3 MB 12.6 MB/s eta 0:00:03\n",
      "     ---------------------------------- -- 457.6/490.3 MB 13.1 MB/s eta 0:00:03\n",
      "     ---------------------------------- -- 458.5/490.3 MB 13.1 MB/s eta 0:00:03\n",
      "     ---------------------------------- -- 459.2/490.3 MB 13.4 MB/s eta 0:00:03\n",
      "     ---------------------------------- -- 459.9/490.3 MB 14.2 MB/s eta 0:00:03\n",
      "     ---------------------------------- -- 460.4/490.3 MB 14.6 MB/s eta 0:00:03\n",
      "     ---------------------------------- -- 460.9/490.3 MB 14.2 MB/s eta 0:00:03\n",
      "     ---------------------------------- -- 461.5/490.3 MB 14.2 MB/s eta 0:00:03\n",
      "     ---------------------------------- -- 462.0/490.3 MB 13.9 MB/s eta 0:00:03\n",
      "     ---------------------------------- -- 462.5/490.3 MB 13.6 MB/s eta 0:00:03\n",
      "     ---------------------------------- -- 463.0/490.3 MB 13.4 MB/s eta 0:00:03\n",
      "     ---------------------------------- -- 463.5/490.3 MB 13.1 MB/s eta 0:00:03\n",
      "     ----------------------------------- - 463.8/490.3 MB 12.6 MB/s eta 0:00:03\n",
      "     ----------------------------------- - 464.2/490.3 MB 12.4 MB/s eta 0:00:03\n",
      "     ----------------------------------- - 464.7/490.3 MB 12.1 MB/s eta 0:00:03\n",
      "     ----------------------------------- - 465.2/490.3 MB 11.7 MB/s eta 0:00:03\n",
      "     ----------------------------------- - 465.6/490.3 MB 11.3 MB/s eta 0:00:03\n",
      "     ----------------------------------- - 466.0/490.3 MB 11.1 MB/s eta 0:00:03\n",
      "     ----------------------------------- - 466.7/490.3 MB 11.1 MB/s eta 0:00:03\n",
      "     ----------------------------------- - 467.4/490.3 MB 10.9 MB/s eta 0:00:03\n",
      "     ----------------------------------- - 468.0/490.3 MB 10.9 MB/s eta 0:00:03\n",
      "     ----------------------------------- - 468.1/490.3 MB 10.7 MB/s eta 0:00:03\n",
      "     ----------------------------------- - 468.1/490.3 MB 10.7 MB/s eta 0:00:03\n",
      "     ------------------------------------ - 468.2/490.3 MB 9.5 MB/s eta 0:00:03\n",
      "     ------------------------------------ - 468.4/490.3 MB 9.2 MB/s eta 0:00:03\n",
      "     ------------------------------------ - 468.9/490.3 MB 9.1 MB/s eta 0:00:03\n",
      "     ------------------------------------ - 469.0/490.3 MB 9.1 MB/s eta 0:00:03\n",
      "     ------------------------------------ - 469.0/490.3 MB 9.1 MB/s eta 0:00:03\n",
      "     ------------------------------------ - 469.0/490.3 MB 8.2 MB/s eta 0:00:03\n",
      "     ------------------------------------ - 469.3/490.3 MB 8.0 MB/s eta 0:00:03\n",
      "     ------------------------------------ - 469.8/490.3 MB 7.9 MB/s eta 0:00:03\n",
      "     ------------------------------------ - 469.9/490.3 MB 7.6 MB/s eta 0:00:03\n",
      "     ------------------------------------ - 470.1/490.3 MB 7.5 MB/s eta 0:00:03\n",
      "     ------------------------------------ - 470.5/490.3 MB 7.4 MB/s eta 0:00:03\n",
      "     ------------------------------------ - 470.9/490.3 MB 7.4 MB/s eta 0:00:03\n",
      "     ------------------------------------ - 470.9/490.3 MB 7.4 MB/s eta 0:00:03\n",
      "     ------------------------------------ - 471.3/490.3 MB 7.1 MB/s eta 0:00:03\n",
      "     ------------------------------------ - 471.8/490.3 MB 7.1 MB/s eta 0:00:03\n",
      "     ------------------------------------ - 472.0/490.3 MB 7.1 MB/s eta 0:00:03\n",
      "     ------------------------------------ - 472.1/490.3 MB 6.7 MB/s eta 0:00:03\n",
      "     ------------------------------------ - 472.4/490.3 MB 6.7 MB/s eta 0:00:03\n",
      "     ------------------------------------ - 472.7/490.3 MB 6.6 MB/s eta 0:00:03\n",
      "     ------------------------------------ - 472.8/490.3 MB 6.5 MB/s eta 0:00:03\n",
      "     ------------------------------------ - 472.9/490.3 MB 6.3 MB/s eta 0:00:03\n",
      "     ------------------------------------ - 473.0/490.3 MB 6.2 MB/s eta 0:00:03\n",
      "     ------------------------------------ - 473.3/490.3 MB 6.1 MB/s eta 0:00:03\n",
      "     ------------------------------------ - 473.4/490.3 MB 6.0 MB/s eta 0:00:03\n",
      "     ------------------------------------ - 473.7/490.3 MB 6.0 MB/s eta 0:00:03\n",
      "     ------------------------------------ - 474.1/490.3 MB 5.9 MB/s eta 0:00:03\n",
      "     ------------------------------------ - 474.3/490.3 MB 5.8 MB/s eta 0:00:03\n",
      "     ------------------------------------ - 474.6/490.3 MB 5.8 MB/s eta 0:00:03\n",
      "     ------------------------------------ - 474.8/490.3 MB 5.7 MB/s eta 0:00:03\n",
      "     ------------------------------------ - 474.8/490.3 MB 5.7 MB/s eta 0:00:03\n",
      "     ------------------------------------ - 474.8/490.3 MB 5.7 MB/s eta 0:00:03\n",
      "     ------------------------------------ - 475.0/490.3 MB 5.4 MB/s eta 0:00:03\n",
      "     ------------------------------------ - 475.2/490.3 MB 5.3 MB/s eta 0:00:03\n",
      "     ------------------------------------ - 475.4/490.3 MB 5.3 MB/s eta 0:00:03\n",
      "     ------------------------------------ - 475.4/490.3 MB 5.3 MB/s eta 0:00:03\n",
      "     ------------------------------------ - 475.6/490.3 MB 5.0 MB/s eta 0:00:03\n",
      "     ------------------------------------ - 475.8/490.3 MB 5.0 MB/s eta 0:00:03\n",
      "     ------------------------------------ - 476.0/490.3 MB 4.9 MB/s eta 0:00:03\n",
      "     ------------------------------------ - 476.0/490.3 MB 4.9 MB/s eta 0:00:03\n",
      "     ------------------------------------ - 476.0/490.3 MB 4.9 MB/s eta 0:00:03\n",
      "     ------------------------------------ - 476.0/490.3 MB 4.6 MB/s eta 0:00:04\n",
      "     ------------------------------------ - 476.3/490.3 MB 4.6 MB/s eta 0:00:04\n",
      "     ------------------------------------ - 476.4/490.3 MB 4.5 MB/s eta 0:00:04\n",
      "     ------------------------------------ - 476.6/490.3 MB 4.4 MB/s eta 0:00:04\n",
      "     ------------------------------------ - 476.9/490.3 MB 4.4 MB/s eta 0:00:04\n",
      "     ------------------------------------ - 477.1/490.3 MB 4.3 MB/s eta 0:00:04\n",
      "     ------------------------------------ - 477.3/490.3 MB 4.3 MB/s eta 0:00:04\n",
      "     -------------------------------------  477.4/490.3 MB 4.2 MB/s eta 0:00:04\n",
      "     -------------------------------------  477.7/490.3 MB 4.2 MB/s eta 0:00:04\n",
      "     -------------------------------------  478.0/490.3 MB 4.1 MB/s eta 0:00:03\n",
      "     -------------------------------------  478.2/490.3 MB 4.1 MB/s eta 0:00:03\n",
      "     -------------------------------------  478.5/490.3 MB 4.3 MB/s eta 0:00:03\n",
      "     -------------------------------------  478.7/490.3 MB 4.3 MB/s eta 0:00:03\n",
      "     -------------------------------------  479.0/490.3 MB 4.2 MB/s eta 0:00:03\n",
      "     -------------------------------------  479.1/490.3 MB 4.2 MB/s eta 0:00:03\n",
      "     -------------------------------------  479.1/490.3 MB 4.2 MB/s eta 0:00:03\n",
      "     -------------------------------------  479.2/490.3 MB 4.0 MB/s eta 0:00:03\n",
      "     -------------------------------------  479.5/490.3 MB 4.3 MB/s eta 0:00:03\n",
      "     -------------------------------------  480.1/490.3 MB 4.3 MB/s eta 0:00:03\n",
      "     -------------------------------------  480.4/490.3 MB 4.3 MB/s eta 0:00:03\n",
      "     -------------------------------------  481.0/490.3 MB 4.4 MB/s eta 0:00:03\n",
      "     -------------------------------------  481.5/490.3 MB 4.5 MB/s eta 0:00:02\n",
      "     -------------------------------------  482.1/490.3 MB 4.5 MB/s eta 0:00:02\n",
      "     -------------------------------------  482.1/490.3 MB 4.5 MB/s eta 0:00:02\n",
      "     -------------------------------------  482.1/490.3 MB 4.5 MB/s eta 0:00:02\n",
      "     -------------------------------------  482.3/490.3 MB 4.4 MB/s eta 0:00:02\n",
      "     -------------------------------------  482.8/490.3 MB 4.5 MB/s eta 0:00:02\n",
      "     -------------------------------------  483.2/490.3 MB 4.7 MB/s eta 0:00:02\n",
      "     -------------------------------------  483.2/490.3 MB 4.7 MB/s eta 0:00:02\n",
      "     -------------------------------------  483.2/490.3 MB 4.7 MB/s eta 0:00:02\n",
      "     -------------------------------------  483.4/490.3 MB 4.5 MB/s eta 0:00:02\n",
      "     -------------------------------------  483.9/490.3 MB 4.6 MB/s eta 0:00:02\n",
      "     -------------------------------------  484.4/490.3 MB 4.6 MB/s eta 0:00:02\n",
      "     -------------------------------------  484.4/490.3 MB 4.6 MB/s eta 0:00:02\n",
      "     -------------------------------------  484.4/490.3 MB 4.6 MB/s eta 0:00:02\n",
      "     -------------------------------------  484.5/490.3 MB 4.4 MB/s eta 0:00:02\n",
      "     -------------------------------------  484.9/490.3 MB 4.4 MB/s eta 0:00:02\n",
      "     -------------------------------------  485.4/490.3 MB 4.8 MB/s eta 0:00:02\n",
      "     -------------------------------------  486.1/490.3 MB 5.2 MB/s eta 0:00:01\n",
      "     -------------------------------------  486.5/490.3 MB 5.7 MB/s eta 0:00:01\n",
      "     -------------------------------------  486.5/490.3 MB 5.7 MB/s eta 0:00:01\n",
      "     -------------------------------------  486.5/490.3 MB 5.7 MB/s eta 0:00:01\n",
      "     -------------------------------------  486.8/490.3 MB 5.5 MB/s eta 0:00:01\n",
      "     -------------------------------------  487.4/490.3 MB 5.7 MB/s eta 0:00:01\n",
      "     -------------------------------------  487.7/490.3 MB 5.9 MB/s eta 0:00:01\n",
      "     -------------------------------------  487.7/490.3 MB 5.9 MB/s eta 0:00:01\n",
      "     -------------------------------------  487.7/490.3 MB 5.9 MB/s eta 0:00:01\n",
      "     -------------------------------------  487.8/490.3 MB 5.5 MB/s eta 0:00:01\n",
      "     -------------------------------------  488.2/490.3 MB 5.5 MB/s eta 0:00:01\n",
      "     -------------------------------------  488.7/490.3 MB 5.7 MB/s eta 0:00:01\n",
      "     -------------------------------------  488.7/490.3 MB 5.7 MB/s eta 0:00:01\n",
      "     -------------------------------------  488.7/490.3 MB 5.7 MB/s eta 0:00:01\n",
      "     -------------------------------------  488.8/490.3 MB 5.3 MB/s eta 0:00:01\n",
      "     -------------------------------------  489.1/490.3 MB 5.3 MB/s eta 0:00:01\n",
      "     -------------------------------------  489.5/490.3 MB 5.7 MB/s eta 0:00:01\n",
      "     -------------------------------------  489.9/490.3 MB 5.7 MB/s eta 0:00:01\n",
      "     -------------------------------------  490.1/490.3 MB 5.6 MB/s eta 0:00:01\n",
      "     -------------------------------------  490.2/490.3 MB 5.5 MB/s eta 0:00:01\n",
      "     -------------------------------------  490.2/490.3 MB 5.5 MB/s eta 0:00:01\n",
      "     -------------------------------------  490.2/490.3 MB 5.2 MB/s eta 0:00:01\n",
      "     -------------------------------------  490.3/490.3 MB 5.2 MB/s eta 0:00:01\n",
      "     -------------------------------------  490.3/490.3 MB 5.2 MB/s eta 0:00:01\n",
      "     -------------------------------------  490.3/490.3 MB 5.2 MB/s eta 0:00:01\n",
      "     -------------------------------------  490.3/490.3 MB 5.2 MB/s eta 0:00:01\n",
      "     -------------------------------------  490.3/490.3 MB 5.2 MB/s eta 0:00:01\n",
      "     -------------------------------------  490.3/490.3 MB 5.2 MB/s eta 0:00:01\n",
      "     -------------------------------------  490.3/490.3 MB 5.2 MB/s eta 0:00:01\n",
      "     -------------------------------------  490.3/490.3 MB 5.2 MB/s eta 0:00:01\n",
      "     -------------------------------------  490.3/490.3 MB 5.2 MB/s eta 0:00:01\n",
      "     -------------------------------------  490.3/490.3 MB 5.2 MB/s eta 0:00:01\n",
      "     -------------------------------------  490.3/490.3 MB 5.2 MB/s eta 0:00:01\n",
      "     -------------------------------------  490.3/490.3 MB 5.2 MB/s eta 0:00:01\n",
      "     -------------------------------------  490.3/490.3 MB 5.2 MB/s eta 0:00:01\n",
      "     -------------------------------------  490.3/490.3 MB 5.2 MB/s eta 0:00:01\n",
      "     -------------------------------------  490.3/490.3 MB 5.2 MB/s eta 0:00:01\n",
      "     -------------------------------------  490.3/490.3 MB 5.2 MB/s eta 0:00:01\n",
      "     -------------------------------------  490.3/490.3 MB 5.2 MB/s eta 0:00:01\n",
      "     -------------------------------------  490.3/490.3 MB 5.2 MB/s eta 0:00:01\n",
      "     -------------------------------------  490.3/490.3 MB 5.2 MB/s eta 0:00:01\n",
      "     -------------------------------------  490.3/490.3 MB 5.2 MB/s eta 0:00:01\n",
      "     -------------------------------------  490.3/490.3 MB 5.2 MB/s eta 0:00:01\n",
      "     -------------------------------------  490.3/490.3 MB 5.2 MB/s eta 0:00:01\n",
      "     -------------------------------------  490.3/490.3 MB 5.2 MB/s eta 0:00:01\n",
      "     -------------------------------------  490.3/490.3 MB 5.2 MB/s eta 0:00:01\n",
      "     -------------------------------------  490.3/490.3 MB 5.2 MB/s eta 0:00:01\n",
      "     -------------------------------------  490.3/490.3 MB 5.2 MB/s eta 0:00:01\n",
      "     -------------------------------------  490.3/490.3 MB 5.2 MB/s eta 0:00:01\n",
      "     -------------------------------------  490.3/490.3 MB 5.2 MB/s eta 0:00:01\n",
      "     -------------------------------------  490.3/490.3 MB 5.2 MB/s eta 0:00:01\n",
      "     -------------------------------------  490.3/490.3 MB 5.2 MB/s eta 0:00:01\n",
      "     -------------------------------------  490.3/490.3 MB 5.2 MB/s eta 0:00:01\n",
      "     -------------------------------------  490.3/490.3 MB 5.2 MB/s eta 0:00:01\n",
      "     -------------------------------------  490.3/490.3 MB 5.2 MB/s eta 0:00:01\n",
      "     -------------------------------------  490.3/490.3 MB 5.2 MB/s eta 0:00:01\n",
      "     -------------------------------------  490.3/490.3 MB 5.2 MB/s eta 0:00:01\n",
      "     -------------------------------------  490.3/490.3 MB 5.2 MB/s eta 0:00:01\n",
      "     -------------------------------------  490.3/490.3 MB 5.2 MB/s eta 0:00:01\n",
      "     -------------------------------------  490.3/490.3 MB 5.2 MB/s eta 0:00:01\n",
      "     -------------------------------------  490.3/490.3 MB 5.2 MB/s eta 0:00:01\n",
      "     -------------------------------------  490.3/490.3 MB 5.2 MB/s eta 0:00:01\n",
      "     -------------------------------------  490.3/490.3 MB 5.2 MB/s eta 0:00:01\n",
      "     -------------------------------------  490.3/490.3 MB 5.2 MB/s eta 0:00:01\n",
      "     -------------------------------------  490.3/490.3 MB 5.2 MB/s eta 0:00:01\n",
      "     -------------------------------------  490.3/490.3 MB 5.2 MB/s eta 0:00:01\n",
      "     -------------------------------------  490.3/490.3 MB 5.2 MB/s eta 0:00:01\n",
      "     -------------------------------------  490.3/490.3 MB 5.2 MB/s eta 0:00:01\n",
      "     -------------------------------------  490.3/490.3 MB 5.2 MB/s eta 0:00:01\n",
      "     -------------------------------------  490.3/490.3 MB 5.2 MB/s eta 0:00:01\n",
      "     -------------------------------------  490.3/490.3 MB 5.2 MB/s eta 0:00:01\n",
      "     -------------------------------------  490.3/490.3 MB 5.2 MB/s eta 0:00:01\n",
      "     -------------------------------------  490.3/490.3 MB 5.2 MB/s eta 0:00:01\n",
      "     -------------------------------------  490.3/490.3 MB 5.2 MB/s eta 0:00:01\n",
      "     -------------------------------------  490.3/490.3 MB 5.2 MB/s eta 0:00:01\n",
      "     -------------------------------------  490.3/490.3 MB 5.2 MB/s eta 0:00:01\n",
      "     -------------------------------------  490.3/490.3 MB 5.2 MB/s eta 0:00:01\n",
      "     -------------------------------------  490.3/490.3 MB 5.2 MB/s eta 0:00:01\n",
      "     -------------------------------------  490.3/490.3 MB 5.2 MB/s eta 0:00:01\n",
      "     -------------------------------------  490.3/490.3 MB 5.2 MB/s eta 0:00:01\n",
      "     -------------------------------------  490.3/490.3 MB 5.2 MB/s eta 0:00:01\n",
      "     -------------------------------------  490.3/490.3 MB 5.2 MB/s eta 0:00:01\n",
      "     -------------------------------------  490.3/490.3 MB 5.2 MB/s eta 0:00:01\n",
      "     -------------------------------------  490.3/490.3 MB 5.2 MB/s eta 0:00:01\n",
      "     -------------------------------------  490.3/490.3 MB 5.2 MB/s eta 0:00:01\n",
      "     -------------------------------------  490.3/490.3 MB 5.2 MB/s eta 0:00:01\n",
      "     -------------------------------------  490.3/490.3 MB 5.2 MB/s eta 0:00:01\n",
      "     -------------------------------------  490.3/490.3 MB 5.2 MB/s eta 0:00:01\n",
      "     -------------------------------------  490.3/490.3 MB 5.2 MB/s eta 0:00:01\n",
      "     -------------------------------------  490.3/490.3 MB 5.2 MB/s eta 0:00:01\n",
      "     -------------------------------------  490.3/490.3 MB 5.2 MB/s eta 0:00:01\n",
      "     -------------------------------------  490.3/490.3 MB 5.2 MB/s eta 0:00:01\n",
      "     -------------------------------------  490.3/490.3 MB 5.2 MB/s eta 0:00:01\n",
      "     -------------------------------------  490.3/490.3 MB 5.2 MB/s eta 0:00:01\n",
      "     -------------------------------------  490.3/490.3 MB 5.2 MB/s eta 0:00:01\n",
      "     -------------------------------------  490.3/490.3 MB 5.2 MB/s eta 0:00:01\n",
      "     -------------------------------------  490.3/490.3 MB 5.2 MB/s eta 0:00:01\n",
      "     -------------------------------------  490.3/490.3 MB 5.2 MB/s eta 0:00:01\n",
      "     -------------------------------------- 490.3/490.3 MB 1.8 MB/s eta 0:00:00\n",
      "Collecting spacy<3.5.0,>=3.3.0 (from en-coreference-web-trf==3.4.0a0)\n",
      "  Using cached spacy-3.4.4-cp311-cp311-win_amd64.whl.metadata (24 kB)\n",
      "Requirement already satisfied: spacy-transformers<1.2.0,>=1.1.2 in c:\\users\\bente\\anaconda3\\lib\\site-packages (from en-coreference-web-trf==3.4.0a0) (1.1.9)\n",
      "Requirement already satisfied: spacy-experimental<0.7.0,>=0.6.0 in c:\\users\\bente\\anaconda3\\lib\\site-packages (from en-coreference-web-trf==3.4.0a0) (0.6.4)\n",
      "Requirement already satisfied: spacy-legacy<3.1.0,>=3.0.10 in c:\\users\\bente\\anaconda3\\lib\\site-packages (from spacy<3.5.0,>=3.3.0->en-coreference-web-trf==3.4.0a0) (3.0.12)\n",
      "Requirement already satisfied: spacy-loggers<2.0.0,>=1.0.0 in c:\\users\\bente\\anaconda3\\lib\\site-packages (from spacy<3.5.0,>=3.3.0->en-coreference-web-trf==3.4.0a0) (1.0.5)\n",
      "Requirement already satisfied: murmurhash<1.1.0,>=0.28.0 in c:\\users\\bente\\anaconda3\\lib\\site-packages (from spacy<3.5.0,>=3.3.0->en-coreference-web-trf==3.4.0a0) (1.0.10)\n",
      "Requirement already satisfied: cymem<2.1.0,>=2.0.2 in c:\\users\\bente\\anaconda3\\lib\\site-packages (from spacy<3.5.0,>=3.3.0->en-coreference-web-trf==3.4.0a0) (2.0.8)\n",
      "Requirement already satisfied: preshed<3.1.0,>=3.0.2 in c:\\users\\bente\\anaconda3\\lib\\site-packages (from spacy<3.5.0,>=3.3.0->en-coreference-web-trf==3.4.0a0) (3.0.9)\n",
      "Collecting thinc<8.2.0,>=8.1.0 (from spacy<3.5.0,>=3.3.0->en-coreference-web-trf==3.4.0a0)\n",
      "  Using cached thinc-8.1.12-cp311-cp311-win_amd64.whl.metadata (15 kB)\n",
      "Requirement already satisfied: wasabi<1.1.0,>=0.9.1 in c:\\users\\bente\\anaconda3\\lib\\site-packages (from spacy<3.5.0,>=3.3.0->en-coreference-web-trf==3.4.0a0) (0.10.1)\n",
      "Requirement already satisfied: srsly<3.0.0,>=2.4.3 in c:\\users\\bente\\anaconda3\\lib\\site-packages (from spacy<3.5.0,>=3.3.0->en-coreference-web-trf==3.4.0a0) (2.4.8)\n",
      "Requirement already satisfied: catalogue<2.1.0,>=2.0.6 in c:\\users\\bente\\anaconda3\\lib\\site-packages (from spacy<3.5.0,>=3.3.0->en-coreference-web-trf==3.4.0a0) (2.0.10)\n",
      "Requirement already satisfied: typer<0.8.0,>=0.3.0 in c:\\users\\bente\\anaconda3\\lib\\site-packages (from spacy<3.5.0,>=3.3.0->en-coreference-web-trf==3.4.0a0) (0.7.0)\n",
      "Requirement already satisfied: pathy>=0.3.5 in c:\\users\\bente\\anaconda3\\lib\\site-packages (from spacy<3.5.0,>=3.3.0->en-coreference-web-trf==3.4.0a0) (0.11.0)\n",
      "Requirement already satisfied: smart-open<7.0.0,>=5.2.1 in c:\\users\\bente\\anaconda3\\lib\\site-packages (from spacy<3.5.0,>=3.3.0->en-coreference-web-trf==3.4.0a0) (5.2.1)\n",
      "Requirement already satisfied: tqdm<5.0.0,>=4.38.0 in c:\\users\\bente\\anaconda3\\lib\\site-packages (from spacy<3.5.0,>=3.3.0->en-coreference-web-trf==3.4.0a0) (4.65.0)\n",
      "Requirement already satisfied: numpy>=1.15.0 in c:\\users\\bente\\anaconda3\\lib\\site-packages (from spacy<3.5.0,>=3.3.0->en-coreference-web-trf==3.4.0a0) (1.26.3)\n",
      "Requirement already satisfied: requests<3.0.0,>=2.13.0 in c:\\users\\bente\\anaconda3\\lib\\site-packages (from spacy<3.5.0,>=3.3.0->en-coreference-web-trf==3.4.0a0) (2.31.0)\n",
      "Requirement already satisfied: pydantic!=1.8,!=1.8.1,<1.11.0,>=1.7.4 in c:\\users\\bente\\anaconda3\\lib\\site-packages (from spacy<3.5.0,>=3.3.0->en-coreference-web-trf==3.4.0a0) (1.10.12)\n",
      "Requirement already satisfied: jinja2 in c:\\users\\bente\\anaconda3\\lib\\site-packages (from spacy<3.5.0,>=3.3.0->en-coreference-web-trf==3.4.0a0) (3.1.3)\n",
      "Requirement already satisfied: setuptools in c:\\users\\bente\\anaconda3\\lib\\site-packages (from spacy<3.5.0,>=3.3.0->en-coreference-web-trf==3.4.0a0) (68.2.2)\n",
      "Requirement already satisfied: packaging>=20.0 in c:\\users\\bente\\anaconda3\\lib\\site-packages (from spacy<3.5.0,>=3.3.0->en-coreference-web-trf==3.4.0a0) (23.1)\n",
      "Requirement already satisfied: langcodes<4.0.0,>=3.2.0 in c:\\users\\bente\\anaconda3\\lib\\site-packages (from spacy<3.5.0,>=3.3.0->en-coreference-web-trf==3.4.0a0) (3.3.0)\n",
      "Requirement already satisfied: transformers<4.26.0,>=3.4.0 in c:\\users\\bente\\anaconda3\\lib\\site-packages (from spacy-transformers<1.2.0,>=1.1.2->en-coreference-web-trf==3.4.0a0) (4.25.1)\n",
      "Requirement already satisfied: torch>=1.6.0 in c:\\users\\bente\\anaconda3\\lib\\site-packages (from spacy-transformers<1.2.0,>=1.1.2->en-coreference-web-trf==3.4.0a0) (2.2.1)\n",
      "Requirement already satisfied: spacy-alignments<1.0.0,>=0.7.2 in c:\\users\\bente\\anaconda3\\lib\\site-packages (from spacy-transformers<1.2.0,>=1.1.2->en-coreference-web-trf==3.4.0a0) (0.9.1)\n",
      "Requirement already satisfied: pathlib-abc==0.1.1 in c:\\users\\bente\\anaconda3\\lib\\site-packages (from pathy>=0.3.5->spacy<3.5.0,>=3.3.0->en-coreference-web-trf==3.4.0a0) (0.1.1)\n",
      "Requirement already satisfied: typing-extensions>=4.2.0 in c:\\users\\bente\\anaconda3\\lib\\site-packages (from pydantic!=1.8,!=1.8.1,<1.11.0,>=1.7.4->spacy<3.5.0,>=3.3.0->en-coreference-web-trf==3.4.0a0) (4.9.0)\n",
      "Requirement already satisfied: charset-normalizer<4,>=2 in c:\\users\\bente\\anaconda3\\lib\\site-packages (from requests<3.0.0,>=2.13.0->spacy<3.5.0,>=3.3.0->en-coreference-web-trf==3.4.0a0) (2.0.4)\n",
      "Requirement already satisfied: idna<4,>=2.5 in c:\\users\\bente\\anaconda3\\lib\\site-packages (from requests<3.0.0,>=2.13.0->spacy<3.5.0,>=3.3.0->en-coreference-web-trf==3.4.0a0) (3.4)\n",
      "Requirement already satisfied: urllib3<3,>=1.21.1 in c:\\users\\bente\\anaconda3\\lib\\site-packages (from requests<3.0.0,>=2.13.0->spacy<3.5.0,>=3.3.0->en-coreference-web-trf==3.4.0a0) (2.0.7)\n",
      "Requirement already satisfied: certifi>=2017.4.17 in c:\\users\\bente\\anaconda3\\lib\\site-packages (from requests<3.0.0,>=2.13.0->spacy<3.5.0,>=3.3.0->en-coreference-web-trf==3.4.0a0) (2024.2.2)\n",
      "Requirement already satisfied: blis<0.8.0,>=0.7.8 in c:\\users\\bente\\anaconda3\\lib\\site-packages (from thinc<8.2.0,>=8.1.0->spacy<3.5.0,>=3.3.0->en-coreference-web-trf==3.4.0a0) (0.7.11)\n",
      "Requirement already satisfied: confection<1.0.0,>=0.0.1 in c:\\users\\bente\\anaconda3\\lib\\site-packages (from thinc<8.2.0,>=8.1.0->spacy<3.5.0,>=3.3.0->en-coreference-web-trf==3.4.0a0) (0.1.4)\n",
      "Requirement already satisfied: filelock in c:\\users\\bente\\anaconda3\\lib\\site-packages (from torch>=1.6.0->spacy-transformers<1.2.0,>=1.1.2->en-coreference-web-trf==3.4.0a0) (3.13.1)\n",
      "Requirement already satisfied: sympy in c:\\users\\bente\\anaconda3\\lib\\site-packages (from torch>=1.6.0->spacy-transformers<1.2.0,>=1.1.2->en-coreference-web-trf==3.4.0a0) (1.12)\n",
      "Requirement already satisfied: networkx in c:\\users\\bente\\anaconda3\\lib\\site-packages (from torch>=1.6.0->spacy-transformers<1.2.0,>=1.1.2->en-coreference-web-trf==3.4.0a0) (3.1)\n",
      "Requirement already satisfied: fsspec in c:\\users\\bente\\anaconda3\\lib\\site-packages (from torch>=1.6.0->spacy-transformers<1.2.0,>=1.1.2->en-coreference-web-trf==3.4.0a0) (2023.10.0)\n",
      "Requirement already satisfied: colorama in c:\\users\\bente\\anaconda3\\lib\\site-packages (from tqdm<5.0.0,>=4.38.0->spacy<3.5.0,>=3.3.0->en-coreference-web-trf==3.4.0a0) (0.4.6)\n",
      "Requirement already satisfied: huggingface-hub<1.0,>=0.10.0 in c:\\users\\bente\\anaconda3\\lib\\site-packages (from transformers<4.26.0,>=3.4.0->spacy-transformers<1.2.0,>=1.1.2->en-coreference-web-trf==3.4.0a0) (0.21.4)\n",
      "Requirement already satisfied: pyyaml>=5.1 in c:\\users\\bente\\anaconda3\\lib\\site-packages (from transformers<4.26.0,>=3.4.0->spacy-transformers<1.2.0,>=1.1.2->en-coreference-web-trf==3.4.0a0) (6.0.1)\n",
      "Requirement already satisfied: regex!=2019.12.17 in c:\\users\\bente\\anaconda3\\lib\\site-packages (from transformers<4.26.0,>=3.4.0->spacy-transformers<1.2.0,>=1.1.2->en-coreference-web-trf==3.4.0a0) (2023.10.3)\n",
      "Requirement already satisfied: tokenizers!=0.11.3,<0.14,>=0.11.1 in c:\\users\\bente\\anaconda3\\lib\\site-packages (from transformers<4.26.0,>=3.4.0->spacy-transformers<1.2.0,>=1.1.2->en-coreference-web-trf==3.4.0a0) (0.13.3)\n",
      "Requirement already satisfied: click<9.0.0,>=7.1.1 in c:\\users\\bente\\anaconda3\\lib\\site-packages (from typer<0.8.0,>=0.3.0->spacy<3.5.0,>=3.3.0->en-coreference-web-trf==3.4.0a0) (8.1.7)\n",
      "Requirement already satisfied: MarkupSafe>=2.0 in c:\\users\\bente\\anaconda3\\lib\\site-packages (from jinja2->spacy<3.5.0,>=3.3.0->en-coreference-web-trf==3.4.0a0) (2.1.3)\n",
      "Requirement already satisfied: mpmath>=0.19 in c:\\users\\bente\\anaconda3\\lib\\site-packages (from sympy->torch>=1.6.0->spacy-transformers<1.2.0,>=1.1.2->en-coreference-web-trf==3.4.0a0) (1.3.0)\n",
      "Using cached spacy-3.4.4-cp311-cp311-win_amd64.whl (11.9 MB)\n",
      "Using cached thinc-8.1.12-cp311-cp311-win_amd64.whl (1.5 MB)\n",
      "Installing collected packages: thinc, spacy\n",
      "  Attempting uninstall: thinc\n",
      "    Found existing installation: thinc 8.2.3\n",
      "    Uninstalling thinc-8.2.3:\n",
      "      Successfully uninstalled thinc-8.2.3\n",
      "  Attempting uninstall: spacy\n",
      "    Found existing installation: spacy 3.7.4\n",
      "    Uninstalling spacy-3.7.4:\n",
      "      Successfully uninstalled spacy-3.7.4\n",
      "Successfully installed spacy-3.4.4 thinc-8.1.12\n"
     ]
    },
    {
     "name": "stderr",
     "output_type": "stream",
     "text": [
      "  WARNING: Failed to remove contents in a temporary directory 'C:\\Users\\bente\\anaconda3\\Lib\\site-packages\\~-inc'.\n",
      "  You can safely remove it manually.\n",
      "  WARNING: Failed to remove contents in a temporary directory 'C:\\Users\\bente\\anaconda3\\Lib\\site-packages\\~-acy'.\n",
      "  You can safely remove it manually.\n",
      "ERROR: pip's dependency resolver does not currently take into account all the packages that are installed. This behaviour is the source of the following dependency conflicts.\n",
      "nl-core-news-sm 3.7.0 requires spacy<3.8.0,>=3.7.0, but you have spacy 3.4.4 which is incompatible.\n"
     ]
    },
    {
     "name": "stdout",
     "output_type": "stream",
     "text": [
      "Collecting en-core-web-sm==3.4.1\n",
      "  Downloading https://github.com/explosion/spacy-models/releases/download/en_core_web_sm-3.4.1/en_core_web_sm-3.4.1-py3-none-any.whl (12.8 MB)\n",
      "     ---------------------------------------- 0.0/12.8 MB ? eta -:--:--\n",
      "     ---------------------------------------- 0.0/12.8 MB ? eta -:--:--\n",
      "     --------------------------------------- 0.0/12.8 MB 487.6 kB/s eta 0:00:27\n",
      "      --------------------------------------- 0.3/12.8 MB 2.3 MB/s eta 0:00:06\n",
      "     --- ------------------------------------ 1.3/12.8 MB 7.3 MB/s eta 0:00:02\n",
      "     ------- -------------------------------- 2.4/12.8 MB 10.8 MB/s eta 0:00:01\n",
      "     ----------- ---------------------------- 3.6/12.8 MB 13.6 MB/s eta 0:00:01\n",
      "     --------------- ------------------------ 4.8/12.8 MB 15.4 MB/s eta 0:00:01\n",
      "     ------------------ --------------------- 5.8/12.8 MB 16.7 MB/s eta 0:00:01\n",
      "     --------------------- ------------------ 6.8/12.8 MB 17.3 MB/s eta 0:00:01\n",
      "     ------------------------ --------------- 7.9/12.8 MB 18.1 MB/s eta 0:00:01\n",
      "     ---------------------------- ----------- 9.1/12.8 MB 18.7 MB/s eta 0:00:01\n",
      "     ------------------------------- ------- 10.4/12.8 MB 24.2 MB/s eta 0:00:01\n",
      "     ----------------------------------- --- 11.6/12.8 MB 25.1 MB/s eta 0:00:01\n",
      "     --------------------------------------  12.8/12.8 MB 25.2 MB/s eta 0:00:01\n",
      "     --------------------------------------  12.8/12.8 MB 25.2 MB/s eta 0:00:01\n",
      "     --------------------------------------  12.8/12.8 MB 25.2 MB/s eta 0:00:01\n",
      "     --------------------------------------- 12.8/12.8 MB 19.3 MB/s eta 0:00:00\n",
      "Requirement already satisfied: spacy<3.5.0,>=3.4.0 in c:\\users\\bente\\anaconda3\\lib\\site-packages (from en-core-web-sm==3.4.1) (3.4.4)\n",
      "Requirement already satisfied: spacy-legacy<3.1.0,>=3.0.10 in c:\\users\\bente\\anaconda3\\lib\\site-packages (from spacy<3.5.0,>=3.4.0->en-core-web-sm==3.4.1) (3.0.12)\n",
      "Requirement already satisfied: spacy-loggers<2.0.0,>=1.0.0 in c:\\users\\bente\\anaconda3\\lib\\site-packages (from spacy<3.5.0,>=3.4.0->en-core-web-sm==3.4.1) (1.0.5)\n",
      "Requirement already satisfied: murmurhash<1.1.0,>=0.28.0 in c:\\users\\bente\\anaconda3\\lib\\site-packages (from spacy<3.5.0,>=3.4.0->en-core-web-sm==3.4.1) (1.0.10)\n",
      "Requirement already satisfied: cymem<2.1.0,>=2.0.2 in c:\\users\\bente\\anaconda3\\lib\\site-packages (from spacy<3.5.0,>=3.4.0->en-core-web-sm==3.4.1) (2.0.8)\n",
      "Requirement already satisfied: preshed<3.1.0,>=3.0.2 in c:\\users\\bente\\anaconda3\\lib\\site-packages (from spacy<3.5.0,>=3.4.0->en-core-web-sm==3.4.1) (3.0.9)\n",
      "Requirement already satisfied: thinc<8.2.0,>=8.1.0 in c:\\users\\bente\\anaconda3\\lib\\site-packages (from spacy<3.5.0,>=3.4.0->en-core-web-sm==3.4.1) (8.1.12)\n",
      "Requirement already satisfied: wasabi<1.1.0,>=0.9.1 in c:\\users\\bente\\anaconda3\\lib\\site-packages (from spacy<3.5.0,>=3.4.0->en-core-web-sm==3.4.1) (0.10.1)\n",
      "Requirement already satisfied: srsly<3.0.0,>=2.4.3 in c:\\users\\bente\\anaconda3\\lib\\site-packages (from spacy<3.5.0,>=3.4.0->en-core-web-sm==3.4.1) (2.4.8)\n",
      "Requirement already satisfied: catalogue<2.1.0,>=2.0.6 in c:\\users\\bente\\anaconda3\\lib\\site-packages (from spacy<3.5.0,>=3.4.0->en-core-web-sm==3.4.1) (2.0.10)\n",
      "Requirement already satisfied: typer<0.8.0,>=0.3.0 in c:\\users\\bente\\anaconda3\\lib\\site-packages (from spacy<3.5.0,>=3.4.0->en-core-web-sm==3.4.1) (0.7.0)\n",
      "Requirement already satisfied: pathy>=0.3.5 in c:\\users\\bente\\anaconda3\\lib\\site-packages (from spacy<3.5.0,>=3.4.0->en-core-web-sm==3.4.1) (0.11.0)\n",
      "Requirement already satisfied: smart-open<7.0.0,>=5.2.1 in c:\\users\\bente\\anaconda3\\lib\\site-packages (from spacy<3.5.0,>=3.4.0->en-core-web-sm==3.4.1) (5.2.1)\n",
      "Requirement already satisfied: tqdm<5.0.0,>=4.38.0 in c:\\users\\bente\\anaconda3\\lib\\site-packages (from spacy<3.5.0,>=3.4.0->en-core-web-sm==3.4.1) (4.65.0)\n",
      "Requirement already satisfied: numpy>=1.15.0 in c:\\users\\bente\\anaconda3\\lib\\site-packages (from spacy<3.5.0,>=3.4.0->en-core-web-sm==3.4.1) (1.26.3)\n",
      "Requirement already satisfied: requests<3.0.0,>=2.13.0 in c:\\users\\bente\\anaconda3\\lib\\site-packages (from spacy<3.5.0,>=3.4.0->en-core-web-sm==3.4.1) (2.31.0)\n",
      "Requirement already satisfied: pydantic!=1.8,!=1.8.1,<1.11.0,>=1.7.4 in c:\\users\\bente\\anaconda3\\lib\\site-packages (from spacy<3.5.0,>=3.4.0->en-core-web-sm==3.4.1) (1.10.12)\n",
      "Requirement already satisfied: jinja2 in c:\\users\\bente\\anaconda3\\lib\\site-packages (from spacy<3.5.0,>=3.4.0->en-core-web-sm==3.4.1) (3.1.3)\n",
      "Requirement already satisfied: setuptools in c:\\users\\bente\\anaconda3\\lib\\site-packages (from spacy<3.5.0,>=3.4.0->en-core-web-sm==3.4.1) (68.2.2)\n",
      "Requirement already satisfied: packaging>=20.0 in c:\\users\\bente\\anaconda3\\lib\\site-packages (from spacy<3.5.0,>=3.4.0->en-core-web-sm==3.4.1) (23.1)\n",
      "Requirement already satisfied: langcodes<4.0.0,>=3.2.0 in c:\\users\\bente\\anaconda3\\lib\\site-packages (from spacy<3.5.0,>=3.4.0->en-core-web-sm==3.4.1) (3.3.0)\n",
      "Requirement already satisfied: pathlib-abc==0.1.1 in c:\\users\\bente\\anaconda3\\lib\\site-packages (from pathy>=0.3.5->spacy<3.5.0,>=3.4.0->en-core-web-sm==3.4.1) (0.1.1)\n",
      "Requirement already satisfied: typing-extensions>=4.2.0 in c:\\users\\bente\\anaconda3\\lib\\site-packages (from pydantic!=1.8,!=1.8.1,<1.11.0,>=1.7.4->spacy<3.5.0,>=3.4.0->en-core-web-sm==3.4.1) (4.9.0)\n",
      "Requirement already satisfied: charset-normalizer<4,>=2 in c:\\users\\bente\\anaconda3\\lib\\site-packages (from requests<3.0.0,>=2.13.0->spacy<3.5.0,>=3.4.0->en-core-web-sm==3.4.1) (2.0.4)\n",
      "Requirement already satisfied: idna<4,>=2.5 in c:\\users\\bente\\anaconda3\\lib\\site-packages (from requests<3.0.0,>=2.13.0->spacy<3.5.0,>=3.4.0->en-core-web-sm==3.4.1) (3.4)\n",
      "Requirement already satisfied: urllib3<3,>=1.21.1 in c:\\users\\bente\\anaconda3\\lib\\site-packages (from requests<3.0.0,>=2.13.0->spacy<3.5.0,>=3.4.0->en-core-web-sm==3.4.1) (2.0.7)\n",
      "Requirement already satisfied: certifi>=2017.4.17 in c:\\users\\bente\\anaconda3\\lib\\site-packages (from requests<3.0.0,>=2.13.0->spacy<3.5.0,>=3.4.0->en-core-web-sm==3.4.1) (2024.2.2)\n",
      "Requirement already satisfied: blis<0.8.0,>=0.7.8 in c:\\users\\bente\\anaconda3\\lib\\site-packages (from thinc<8.2.0,>=8.1.0->spacy<3.5.0,>=3.4.0->en-core-web-sm==3.4.1) (0.7.11)\n",
      "Requirement already satisfied: confection<1.0.0,>=0.0.1 in c:\\users\\bente\\anaconda3\\lib\\site-packages (from thinc<8.2.0,>=8.1.0->spacy<3.5.0,>=3.4.0->en-core-web-sm==3.4.1) (0.1.4)\n",
      "Requirement already satisfied: colorama in c:\\users\\bente\\anaconda3\\lib\\site-packages (from tqdm<5.0.0,>=4.38.0->spacy<3.5.0,>=3.4.0->en-core-web-sm==3.4.1) (0.4.6)\n",
      "Requirement already satisfied: click<9.0.0,>=7.1.1 in c:\\users\\bente\\anaconda3\\lib\\site-packages (from typer<0.8.0,>=0.3.0->spacy<3.5.0,>=3.4.0->en-core-web-sm==3.4.1) (8.1.7)\n",
      "Requirement already satisfied: MarkupSafe>=2.0 in c:\\users\\bente\\anaconda3\\lib\\site-packages (from jinja2->spacy<3.5.0,>=3.4.0->en-core-web-sm==3.4.1) (2.1.3)\n",
      "[+] Download and installation successful\n",
      "You can now load the package via spacy.load('en_core_web_sm')\n"
     ]
    }
   ],
   "source": [
    "!pip install -U spacy-experimental\n",
    "# This will downlaod ~500Mb of data\n",
    "!pip install https://github.com/explosion/spacy-experimental/releases/download/v0.6.0/en_coreference_web_trf-3.4.0a0-py3-none-any.whl#egg=en_coreference_web_trf\n",
    "!python -m spacy download en_core_web_sm"
   ]
  },
  {
   "cell_type": "code",
   "execution_count": 10,
   "metadata": {
    "collapsed": true,
    "id": "YU23bn1Cipd9",
    "jupyter": {
     "outputs_hidden": true
    }
   },
   "outputs": [
    {
     "name": "stdout",
     "output_type": "stream",
     "text": [
      "Collecting en-coreference-web-trf==3.4.0a0\n",
      "  Using cached https://github.com/explosion/spacy-experimental/releases/download/v0.6.0/en_coreference_web_trf-3.4.0a0-py3-none-any.whl (490.3 MB)\n",
      "Requirement already satisfied: spacy<3.5.0,>=3.3.0 in c:\\users\\bente\\anaconda3\\lib\\site-packages (from en-coreference-web-trf==3.4.0a0) (3.4.4)\n",
      "Requirement already satisfied: spacy-transformers<1.2.0,>=1.1.2 in c:\\users\\bente\\anaconda3\\lib\\site-packages (from en-coreference-web-trf==3.4.0a0) (1.1.9)\n",
      "Requirement already satisfied: spacy-experimental<0.7.0,>=0.6.0 in c:\\users\\bente\\anaconda3\\lib\\site-packages (from en-coreference-web-trf==3.4.0a0) (0.6.4)\n",
      "Requirement already satisfied: spacy-legacy<3.1.0,>=3.0.10 in c:\\users\\bente\\anaconda3\\lib\\site-packages (from spacy<3.5.0,>=3.3.0->en-coreference-web-trf==3.4.0a0) (3.0.12)\n",
      "Requirement already satisfied: spacy-loggers<2.0.0,>=1.0.0 in c:\\users\\bente\\anaconda3\\lib\\site-packages (from spacy<3.5.0,>=3.3.0->en-coreference-web-trf==3.4.0a0) (1.0.5)\n",
      "Requirement already satisfied: murmurhash<1.1.0,>=0.28.0 in c:\\users\\bente\\anaconda3\\lib\\site-packages (from spacy<3.5.0,>=3.3.0->en-coreference-web-trf==3.4.0a0) (1.0.10)\n",
      "Requirement already satisfied: cymem<2.1.0,>=2.0.2 in c:\\users\\bente\\anaconda3\\lib\\site-packages (from spacy<3.5.0,>=3.3.0->en-coreference-web-trf==3.4.0a0) (2.0.8)\n",
      "Requirement already satisfied: preshed<3.1.0,>=3.0.2 in c:\\users\\bente\\anaconda3\\lib\\site-packages (from spacy<3.5.0,>=3.3.0->en-coreference-web-trf==3.4.0a0) (3.0.9)\n",
      "Requirement already satisfied: thinc<8.2.0,>=8.1.0 in c:\\users\\bente\\anaconda3\\lib\\site-packages (from spacy<3.5.0,>=3.3.0->en-coreference-web-trf==3.4.0a0) (8.1.12)\n",
      "Requirement already satisfied: wasabi<1.1.0,>=0.9.1 in c:\\users\\bente\\anaconda3\\lib\\site-packages (from spacy<3.5.0,>=3.3.0->en-coreference-web-trf==3.4.0a0) (0.10.1)\n",
      "Requirement already satisfied: srsly<3.0.0,>=2.4.3 in c:\\users\\bente\\anaconda3\\lib\\site-packages (from spacy<3.5.0,>=3.3.0->en-coreference-web-trf==3.4.0a0) (2.4.8)\n",
      "Requirement already satisfied: catalogue<2.1.0,>=2.0.6 in c:\\users\\bente\\anaconda3\\lib\\site-packages (from spacy<3.5.0,>=3.3.0->en-coreference-web-trf==3.4.0a0) (2.0.10)\n",
      "Requirement already satisfied: typer<0.8.0,>=0.3.0 in c:\\users\\bente\\anaconda3\\lib\\site-packages (from spacy<3.5.0,>=3.3.0->en-coreference-web-trf==3.4.0a0) (0.7.0)\n",
      "Requirement already satisfied: pathy>=0.3.5 in c:\\users\\bente\\anaconda3\\lib\\site-packages (from spacy<3.5.0,>=3.3.0->en-coreference-web-trf==3.4.0a0) (0.11.0)\n",
      "Requirement already satisfied: smart-open<7.0.0,>=5.2.1 in c:\\users\\bente\\anaconda3\\lib\\site-packages (from spacy<3.5.0,>=3.3.0->en-coreference-web-trf==3.4.0a0) (5.2.1)\n",
      "Requirement already satisfied: tqdm<5.0.0,>=4.38.0 in c:\\users\\bente\\anaconda3\\lib\\site-packages (from spacy<3.5.0,>=3.3.0->en-coreference-web-trf==3.4.0a0) (4.65.0)\n",
      "Requirement already satisfied: numpy>=1.15.0 in c:\\users\\bente\\anaconda3\\lib\\site-packages (from spacy<3.5.0,>=3.3.0->en-coreference-web-trf==3.4.0a0) (1.26.3)\n",
      "Requirement already satisfied: requests<3.0.0,>=2.13.0 in c:\\users\\bente\\anaconda3\\lib\\site-packages (from spacy<3.5.0,>=3.3.0->en-coreference-web-trf==3.4.0a0) (2.31.0)\n",
      "Requirement already satisfied: pydantic!=1.8,!=1.8.1,<1.11.0,>=1.7.4 in c:\\users\\bente\\anaconda3\\lib\\site-packages (from spacy<3.5.0,>=3.3.0->en-coreference-web-trf==3.4.0a0) (1.10.12)\n",
      "Requirement already satisfied: jinja2 in c:\\users\\bente\\anaconda3\\lib\\site-packages (from spacy<3.5.0,>=3.3.0->en-coreference-web-trf==3.4.0a0) (3.1.3)\n",
      "Requirement already satisfied: setuptools in c:\\users\\bente\\anaconda3\\lib\\site-packages (from spacy<3.5.0,>=3.3.0->en-coreference-web-trf==3.4.0a0) (68.2.2)\n",
      "Requirement already satisfied: packaging>=20.0 in c:\\users\\bente\\anaconda3\\lib\\site-packages (from spacy<3.5.0,>=3.3.0->en-coreference-web-trf==3.4.0a0) (23.1)\n",
      "Requirement already satisfied: langcodes<4.0.0,>=3.2.0 in c:\\users\\bente\\anaconda3\\lib\\site-packages (from spacy<3.5.0,>=3.3.0->en-coreference-web-trf==3.4.0a0) (3.3.0)\n",
      "Requirement already satisfied: transformers<4.26.0,>=3.4.0 in c:\\users\\bente\\anaconda3\\lib\\site-packages (from spacy-transformers<1.2.0,>=1.1.2->en-coreference-web-trf==3.4.0a0) (4.25.1)\n",
      "Requirement already satisfied: torch>=1.6.0 in c:\\users\\bente\\anaconda3\\lib\\site-packages (from spacy-transformers<1.2.0,>=1.1.2->en-coreference-web-trf==3.4.0a0) (2.2.1)\n",
      "Requirement already satisfied: spacy-alignments<1.0.0,>=0.7.2 in c:\\users\\bente\\anaconda3\\lib\\site-packages (from spacy-transformers<1.2.0,>=1.1.2->en-coreference-web-trf==3.4.0a0) (0.9.1)\n",
      "Requirement already satisfied: pathlib-abc==0.1.1 in c:\\users\\bente\\anaconda3\\lib\\site-packages (from pathy>=0.3.5->spacy<3.5.0,>=3.3.0->en-coreference-web-trf==3.4.0a0) (0.1.1)\n",
      "Requirement already satisfied: typing-extensions>=4.2.0 in c:\\users\\bente\\anaconda3\\lib\\site-packages (from pydantic!=1.8,!=1.8.1,<1.11.0,>=1.7.4->spacy<3.5.0,>=3.3.0->en-coreference-web-trf==3.4.0a0) (4.9.0)\n",
      "Requirement already satisfied: charset-normalizer<4,>=2 in c:\\users\\bente\\anaconda3\\lib\\site-packages (from requests<3.0.0,>=2.13.0->spacy<3.5.0,>=3.3.0->en-coreference-web-trf==3.4.0a0) (2.0.4)\n",
      "Requirement already satisfied: idna<4,>=2.5 in c:\\users\\bente\\anaconda3\\lib\\site-packages (from requests<3.0.0,>=2.13.0->spacy<3.5.0,>=3.3.0->en-coreference-web-trf==3.4.0a0) (3.4)\n",
      "Requirement already satisfied: urllib3<3,>=1.21.1 in c:\\users\\bente\\anaconda3\\lib\\site-packages (from requests<3.0.0,>=2.13.0->spacy<3.5.0,>=3.3.0->en-coreference-web-trf==3.4.0a0) (2.0.7)\n",
      "Requirement already satisfied: certifi>=2017.4.17 in c:\\users\\bente\\anaconda3\\lib\\site-packages (from requests<3.0.0,>=2.13.0->spacy<3.5.0,>=3.3.0->en-coreference-web-trf==3.4.0a0) (2024.2.2)\n",
      "Requirement already satisfied: blis<0.8.0,>=0.7.8 in c:\\users\\bente\\anaconda3\\lib\\site-packages (from thinc<8.2.0,>=8.1.0->spacy<3.5.0,>=3.3.0->en-coreference-web-trf==3.4.0a0) (0.7.11)\n",
      "Requirement already satisfied: confection<1.0.0,>=0.0.1 in c:\\users\\bente\\anaconda3\\lib\\site-packages (from thinc<8.2.0,>=8.1.0->spacy<3.5.0,>=3.3.0->en-coreference-web-trf==3.4.0a0) (0.1.4)\n",
      "Requirement already satisfied: filelock in c:\\users\\bente\\anaconda3\\lib\\site-packages (from torch>=1.6.0->spacy-transformers<1.2.0,>=1.1.2->en-coreference-web-trf==3.4.0a0) (3.13.1)\n",
      "Requirement already satisfied: sympy in c:\\users\\bente\\anaconda3\\lib\\site-packages (from torch>=1.6.0->spacy-transformers<1.2.0,>=1.1.2->en-coreference-web-trf==3.4.0a0) (1.12)\n",
      "Requirement already satisfied: networkx in c:\\users\\bente\\anaconda3\\lib\\site-packages (from torch>=1.6.0->spacy-transformers<1.2.0,>=1.1.2->en-coreference-web-trf==3.4.0a0) (3.1)\n",
      "Requirement already satisfied: fsspec in c:\\users\\bente\\anaconda3\\lib\\site-packages (from torch>=1.6.0->spacy-transformers<1.2.0,>=1.1.2->en-coreference-web-trf==3.4.0a0) (2023.10.0)\n",
      "Requirement already satisfied: colorama in c:\\users\\bente\\anaconda3\\lib\\site-packages (from tqdm<5.0.0,>=4.38.0->spacy<3.5.0,>=3.3.0->en-coreference-web-trf==3.4.0a0) (0.4.6)\n",
      "Requirement already satisfied: huggingface-hub<1.0,>=0.10.0 in c:\\users\\bente\\anaconda3\\lib\\site-packages (from transformers<4.26.0,>=3.4.0->spacy-transformers<1.2.0,>=1.1.2->en-coreference-web-trf==3.4.0a0) (0.21.4)\n",
      "Requirement already satisfied: pyyaml>=5.1 in c:\\users\\bente\\anaconda3\\lib\\site-packages (from transformers<4.26.0,>=3.4.0->spacy-transformers<1.2.0,>=1.1.2->en-coreference-web-trf==3.4.0a0) (6.0.1)\n",
      "Requirement already satisfied: regex!=2019.12.17 in c:\\users\\bente\\anaconda3\\lib\\site-packages (from transformers<4.26.0,>=3.4.0->spacy-transformers<1.2.0,>=1.1.2->en-coreference-web-trf==3.4.0a0) (2023.10.3)\n",
      "Requirement already satisfied: tokenizers!=0.11.3,<0.14,>=0.11.1 in c:\\users\\bente\\anaconda3\\lib\\site-packages (from transformers<4.26.0,>=3.4.0->spacy-transformers<1.2.0,>=1.1.2->en-coreference-web-trf==3.4.0a0) (0.13.3)\n",
      "Requirement already satisfied: click<9.0.0,>=7.1.1 in c:\\users\\bente\\anaconda3\\lib\\site-packages (from typer<0.8.0,>=0.3.0->spacy<3.5.0,>=3.3.0->en-coreference-web-trf==3.4.0a0) (8.1.7)\n",
      "Requirement already satisfied: MarkupSafe>=2.0 in c:\\users\\bente\\anaconda3\\lib\\site-packages (from jinja2->spacy<3.5.0,>=3.3.0->en-coreference-web-trf==3.4.0a0) (2.1.3)\n",
      "Requirement already satisfied: mpmath>=0.19 in c:\\users\\bente\\anaconda3\\lib\\site-packages (from sympy->torch>=1.6.0->spacy-transformers<1.2.0,>=1.1.2->en-coreference-web-trf==3.4.0a0) (1.3.0)\n"
     ]
    }
   ],
   "source": [
    "# This will downlaod ~500Mb of data\n",
    "!pip install https://github.com/explosion/spacy-experimental/releases/download/v0.6.0/en_coreference_web_trf-3.4.0a0-py3-none-any.whl#egg=en_coreference_web_trf"
   ]
  },
  {
   "cell_type": "code",
   "execution_count": 11,
   "metadata": {
    "id": "x-kfU2Tripkz",
    "scrolled": true
   },
   "outputs": [
    {
     "name": "stdout",
     "output_type": "stream",
     "text": [
      "Collecting en-core-web-sm==3.4.1\n",
      "  Using cached https://github.com/explosion/spacy-models/releases/download/en_core_web_sm-3.4.1/en_core_web_sm-3.4.1-py3-none-any.whl (12.8 MB)\n",
      "Requirement already satisfied: spacy<3.5.0,>=3.4.0 in c:\\users\\bente\\anaconda3\\lib\\site-packages (from en-core-web-sm==3.4.1) (3.4.4)\n",
      "Requirement already satisfied: spacy-legacy<3.1.0,>=3.0.10 in c:\\users\\bente\\anaconda3\\lib\\site-packages (from spacy<3.5.0,>=3.4.0->en-core-web-sm==3.4.1) (3.0.12)\n",
      "Requirement already satisfied: spacy-loggers<2.0.0,>=1.0.0 in c:\\users\\bente\\anaconda3\\lib\\site-packages (from spacy<3.5.0,>=3.4.0->en-core-web-sm==3.4.1) (1.0.5)\n",
      "Requirement already satisfied: murmurhash<1.1.0,>=0.28.0 in c:\\users\\bente\\anaconda3\\lib\\site-packages (from spacy<3.5.0,>=3.4.0->en-core-web-sm==3.4.1) (1.0.10)\n",
      "Requirement already satisfied: cymem<2.1.0,>=2.0.2 in c:\\users\\bente\\anaconda3\\lib\\site-packages (from spacy<3.5.0,>=3.4.0->en-core-web-sm==3.4.1) (2.0.8)\n",
      "Requirement already satisfied: preshed<3.1.0,>=3.0.2 in c:\\users\\bente\\anaconda3\\lib\\site-packages (from spacy<3.5.0,>=3.4.0->en-core-web-sm==3.4.1) (3.0.9)\n",
      "Requirement already satisfied: thinc<8.2.0,>=8.1.0 in c:\\users\\bente\\anaconda3\\lib\\site-packages (from spacy<3.5.0,>=3.4.0->en-core-web-sm==3.4.1) (8.1.12)\n",
      "Requirement already satisfied: wasabi<1.1.0,>=0.9.1 in c:\\users\\bente\\anaconda3\\lib\\site-packages (from spacy<3.5.0,>=3.4.0->en-core-web-sm==3.4.1) (0.10.1)\n",
      "Requirement already satisfied: srsly<3.0.0,>=2.4.3 in c:\\users\\bente\\anaconda3\\lib\\site-packages (from spacy<3.5.0,>=3.4.0->en-core-web-sm==3.4.1) (2.4.8)\n",
      "Requirement already satisfied: catalogue<2.1.0,>=2.0.6 in c:\\users\\bente\\anaconda3\\lib\\site-packages (from spacy<3.5.0,>=3.4.0->en-core-web-sm==3.4.1) (2.0.10)\n",
      "Requirement already satisfied: typer<0.8.0,>=0.3.0 in c:\\users\\bente\\anaconda3\\lib\\site-packages (from spacy<3.5.0,>=3.4.0->en-core-web-sm==3.4.1) (0.7.0)\n",
      "Requirement already satisfied: pathy>=0.3.5 in c:\\users\\bente\\anaconda3\\lib\\site-packages (from spacy<3.5.0,>=3.4.0->en-core-web-sm==3.4.1) (0.11.0)\n",
      "Requirement already satisfied: smart-open<7.0.0,>=5.2.1 in c:\\users\\bente\\anaconda3\\lib\\site-packages (from spacy<3.5.0,>=3.4.0->en-core-web-sm==3.4.1) (5.2.1)\n",
      "Requirement already satisfied: tqdm<5.0.0,>=4.38.0 in c:\\users\\bente\\anaconda3\\lib\\site-packages (from spacy<3.5.0,>=3.4.0->en-core-web-sm==3.4.1) (4.65.0)\n",
      "Requirement already satisfied: numpy>=1.15.0 in c:\\users\\bente\\anaconda3\\lib\\site-packages (from spacy<3.5.0,>=3.4.0->en-core-web-sm==3.4.1) (1.26.3)\n",
      "Requirement already satisfied: requests<3.0.0,>=2.13.0 in c:\\users\\bente\\anaconda3\\lib\\site-packages (from spacy<3.5.0,>=3.4.0->en-core-web-sm==3.4.1) (2.31.0)\n",
      "Requirement already satisfied: pydantic!=1.8,!=1.8.1,<1.11.0,>=1.7.4 in c:\\users\\bente\\anaconda3\\lib\\site-packages (from spacy<3.5.0,>=3.4.0->en-core-web-sm==3.4.1) (1.10.12)\n",
      "Requirement already satisfied: jinja2 in c:\\users\\bente\\anaconda3\\lib\\site-packages (from spacy<3.5.0,>=3.4.0->en-core-web-sm==3.4.1) (3.1.3)\n",
      "Requirement already satisfied: setuptools in c:\\users\\bente\\anaconda3\\lib\\site-packages (from spacy<3.5.0,>=3.4.0->en-core-web-sm==3.4.1) (68.2.2)\n",
      "Requirement already satisfied: packaging>=20.0 in c:\\users\\bente\\anaconda3\\lib\\site-packages (from spacy<3.5.0,>=3.4.0->en-core-web-sm==3.4.1) (23.1)\n",
      "Requirement already satisfied: langcodes<4.0.0,>=3.2.0 in c:\\users\\bente\\anaconda3\\lib\\site-packages (from spacy<3.5.0,>=3.4.0->en-core-web-sm==3.4.1) (3.3.0)\n",
      "Requirement already satisfied: pathlib-abc==0.1.1 in c:\\users\\bente\\anaconda3\\lib\\site-packages (from pathy>=0.3.5->spacy<3.5.0,>=3.4.0->en-core-web-sm==3.4.1) (0.1.1)\n",
      "Requirement already satisfied: typing-extensions>=4.2.0 in c:\\users\\bente\\anaconda3\\lib\\site-packages (from pydantic!=1.8,!=1.8.1,<1.11.0,>=1.7.4->spacy<3.5.0,>=3.4.0->en-core-web-sm==3.4.1) (4.9.0)\n",
      "Requirement already satisfied: charset-normalizer<4,>=2 in c:\\users\\bente\\anaconda3\\lib\\site-packages (from requests<3.0.0,>=2.13.0->spacy<3.5.0,>=3.4.0->en-core-web-sm==3.4.1) (2.0.4)\n",
      "Requirement already satisfied: idna<4,>=2.5 in c:\\users\\bente\\anaconda3\\lib\\site-packages (from requests<3.0.0,>=2.13.0->spacy<3.5.0,>=3.4.0->en-core-web-sm==3.4.1) (3.4)\n",
      "Requirement already satisfied: urllib3<3,>=1.21.1 in c:\\users\\bente\\anaconda3\\lib\\site-packages (from requests<3.0.0,>=2.13.0->spacy<3.5.0,>=3.4.0->en-core-web-sm==3.4.1) (2.0.7)\n",
      "Requirement already satisfied: certifi>=2017.4.17 in c:\\users\\bente\\anaconda3\\lib\\site-packages (from requests<3.0.0,>=2.13.0->spacy<3.5.0,>=3.4.0->en-core-web-sm==3.4.1) (2024.2.2)\n",
      "Requirement already satisfied: blis<0.8.0,>=0.7.8 in c:\\users\\bente\\anaconda3\\lib\\site-packages (from thinc<8.2.0,>=8.1.0->spacy<3.5.0,>=3.4.0->en-core-web-sm==3.4.1) (0.7.11)\n",
      "Requirement already satisfied: confection<1.0.0,>=0.0.1 in c:\\users\\bente\\anaconda3\\lib\\site-packages (from thinc<8.2.0,>=8.1.0->spacy<3.5.0,>=3.4.0->en-core-web-sm==3.4.1) (0.1.4)\n",
      "Requirement already satisfied: colorama in c:\\users\\bente\\anaconda3\\lib\\site-packages (from tqdm<5.0.0,>=4.38.0->spacy<3.5.0,>=3.4.0->en-core-web-sm==3.4.1) (0.4.6)\n",
      "Requirement already satisfied: click<9.0.0,>=7.1.1 in c:\\users\\bente\\anaconda3\\lib\\site-packages (from typer<0.8.0,>=0.3.0->spacy<3.5.0,>=3.4.0->en-core-web-sm==3.4.1) (8.1.7)\n",
      "Requirement already satisfied: MarkupSafe>=2.0 in c:\\users\\bente\\anaconda3\\lib\\site-packages (from jinja2->spacy<3.5.0,>=3.4.0->en-core-web-sm==3.4.1) (2.1.3)\n",
      "[+] Download and installation successful\n",
      "You can now load the package via spacy.load('en_core_web_sm')\n"
     ]
    }
   ],
   "source": [
    "!python -m spacy download en_core_web_sm"
   ]
  },
  {
   "cell_type": "code",
   "execution_count": null,
   "metadata": {
    "id": "7twcMPW_jvFZ"
   },
   "outputs": [],
   "source": [
    "!pip install seaborn"
   ]
  },
  {
   "cell_type": "markdown",
   "metadata": {
    "id": "M4Z5jvz3h9vF"
   },
   "source": [
    "<br><br><br><br>\n",
    "\n",
    "## **Import libraries**"
   ]
  },
  {
   "cell_type": "code",
   "execution_count": 4,
   "metadata": {
    "id": "IExmOtxgh9vF"
   },
   "outputs": [],
   "source": [
    "from collections import defaultdict\n",
    "import os\n",
    "import pandas as pd\n",
    "import random\n",
    "from riveter import Riveter\n",
    "\n",
    "import seaborn as sns\n",
    "import matplotlib.pyplot as plt"
   ]
  },
  {
   "cell_type": "markdown",
   "metadata": {
    "id": "lFK2Arloh9vG"
   },
   "source": [
    "<br><br><br><br>\n",
    "\n",
    "## **Small demo with Sap et al's Power and Agency Lexicon**"
   ]
  },
  {
   "cell_type": "markdown",
   "metadata": {
    "id": "zYuYET_Ih9vG"
   },
   "source": [
    "Here are three example stories that we will use to measure power and agency between personas:\n",
    "> 1. I was just thinking about walking down the street, when my shoelace snapped. I had to call my doctor to pick me up. I felt so bad I also called my friend Katie, who came in her car. She was a lifesaver. My friend Jack is nice.\n",
    "\n",
    "> 2. My doctor fixed my shoe. I thanked him. Then Susan arrived. Now she is calling the doctor too.\n",
    "\n",
    "> 3. She went to the store. She thanked the doctor."
   ]
  },
  {
   "cell_type": "code",
   "execution_count": 5,
   "metadata": {
    "id": "CB-e0sTwh9vG"
   },
   "outputs": [],
   "source": [
    "example_stories = [\"I was just thinking about walking down the street, when a car hit a tree. I had to call my doctor to pick me up. I felt so bad I also called Katie, who came in her car. She saved me.\",\n",
    "                   \"My doctor fixed my shoe. I thanked him. Then Susan arrived. Now she is calling the doctor too.\",\n",
    "                   \"Mary went to the store. She thanked the doctor. He called her. He replied that it was no problem.\",\n",
    "                   \"Jack broke the vase.\"]\n",
    "text_ids = [0, 1, 2, 3]"
   ]
  },
  {
   "cell_type": "markdown",
   "metadata": {
    "id": "RAOAZiD_h9vH"
   },
   "source": [
    "<br><br>\n",
    "\n",
    "### Load lexicon (\"power\") and train model"
   ]
  },
  {
   "cell_type": "code",
   "execution_count": 6,
   "metadata": {
    "id": "6nXERqHJh9vH"
   },
   "outputs": [
    {
     "name": "stderr",
     "output_type": "stream",
     "text": [
      "100%|██████████| 4/4 [00:01<00:00,  3.75it/s]"
     ]
    },
    {
     "name": "stdout",
     "output_type": "stream",
     "text": [
      "2024-03-08 15:08:16 Complete!\n"
     ]
    },
    {
     "name": "stderr",
     "output_type": "stream",
     "text": [
      "\n"
     ]
    }
   ],
   "source": [
    "riveter = Riveter()\n",
    "riveter.load_sap_lexicon('power')\n",
    "riveter.train(example_stories,\n",
    "              text_ids)"
   ]
  },
  {
   "cell_type": "markdown",
   "metadata": {
    "id": "WieAfLklh9vH",
    "tags": []
   },
   "source": [
    "### Get total scores for all documents"
   ]
  },
  {
   "cell_type": "markdown",
   "metadata": {
    "id": "tifx6zbdh9vH"
   },
   "source": [
    "You can use the `.get_score_totals()` function to get cumulative power scores (or chosen dynamic scores) for each persona mentioned in the texts."
   ]
  },
  {
   "cell_type": "code",
   "execution_count": 7,
   "metadata": {
    "id": "A5nLwsm7h9vH"
   },
   "outputs": [
    {
     "data": {
      "text/plain": [
       "{'i': -0.3,\n",
       " 'she': 0.3333333333333333,\n",
       " 'car': 1.0,\n",
       " 'tree': -1.0,\n",
       " 'doctor': 0.5,\n",
       " 'mary': 0.0,\n",
       " 'jack': 1.0,\n",
       " 'vase': -1.0}"
      ]
     },
     "execution_count": 7,
     "metadata": {},
     "output_type": "execute_result"
    }
   ],
   "source": [
    "riveter.get_score_totals(frequency_threshold=1)"
   ]
  },
  {
   "cell_type": "markdown",
   "metadata": {
    "id": "uTrx49bHh9vH"
   },
   "source": [
    "We can see all the contributing verbs for each persona and whether they contributed positively or negatively."
   ]
  },
  {
   "cell_type": "code",
   "execution_count": 8,
   "metadata": {
    "id": "o4mQqh8Ih9vH"
   },
   "outputs": [
    {
     "data": {
      "text/plain": [
       "{'she': defaultdict(<function riveter.default_dict_int()>,\n",
       "             {'positive': defaultdict(int, {'save_nsubj': 1})}),\n",
       " 'car': defaultdict(<function riveter.default_dict_int()>,\n",
       "             {'positive': defaultdict(int, {'hit_nsubj': 1})}),\n",
       " 'i': defaultdict(<function riveter.default_dict_int()>,\n",
       "             {'positive': defaultdict(int, {'call_dobj': 1}),\n",
       "              'negative': defaultdict(int,\n",
       "                          {'pick_dobj': 1,\n",
       "                           'save_dobj': 1,\n",
       "                           'thank_nsubj': 1,\n",
       "                           'fix_dobj': 1})}),\n",
       " 'tree': defaultdict(<function riveter.default_dict_int()>,\n",
       "             {'negative': defaultdict(int, {'hit_dobj': 1})}),\n",
       " 'doctor': defaultdict(<function riveter.default_dict_int()>,\n",
       "             {'positive': defaultdict(int,\n",
       "                          {'fix_nsubj': 1, 'thank_dobj': 2, 'call_dobj': 1}),\n",
       "              'negative': defaultdict(int, {'call_nsubj': 1})}),\n",
       " 'mary': defaultdict(<function riveter.default_dict_int()>,\n",
       "             {'negative': defaultdict(int, {'thank_nsubj': 1}),\n",
       "              'positive': defaultdict(int, {'call_dobj': 1})}),\n",
       " 'jack': defaultdict(<function riveter.default_dict_int()>,\n",
       "             {'positive': defaultdict(int, {'break_nsubj': 1})}),\n",
       " 'vase': defaultdict(<function riveter.default_dict_int()>,\n",
       "             {'negative': defaultdict(int, {'break_dobj': 1})})}"
      ]
     },
     "execution_count": 8,
     "metadata": {},
     "output_type": "execute_result"
    }
   ],
   "source": [
    "riveter.get_persona_polarity_verb_count_dict()"
   ]
  },
  {
   "cell_type": "markdown",
   "metadata": {
    "id": "3aFvWgfyh9vH"
   },
   "source": [
    "And we can view these scores visually for each persona.\n",
    "\n",
    "In the following heatmap, each cell contains the count of matching verbs for the persona that contributed either positively or negatively to its final score.\n",
    "\n",
    "(See examples later in the notebook for entities with more verbs)."
   ]
  },
  {
   "cell_type": "code",
   "execution_count": 6,
   "metadata": {
    "id": "2qgiCJPzh9vH"
   },
   "outputs": [],
   "source": [
    "#riveter.plot_verbs_for_persona('i', figsize=(2, 4))"
   ]
  },
  {
   "cell_type": "markdown",
   "metadata": {
    "id": "iFkUXupDh9vH"
   },
   "source": [
    "We can save the Riveter object for later, and reload it when we want to use it again."
   ]
  },
  {
   "cell_type": "code",
   "execution_count": 9,
   "metadata": {
    "id": "tgrp9aPfh9vI"
   },
   "outputs": [
    {
     "name": "stdout",
     "output_type": "stream",
     "text": [
      "Riveter successfully saved to \"test\"\n"
     ]
    }
   ],
   "source": [
    "riveter.save('test')"
   ]
  },
  {
   "cell_type": "markdown",
   "metadata": {
    "id": "tgOs1Rboh9vI"
   },
   "source": [
    "You can also see what words or names have been clustered together for each persona (performed by the coreference resolution model)."
   ]
  },
  {
   "cell_type": "code",
   "execution_count": 10,
   "metadata": {
    "id": "4__Dm5kuh9vI"
   },
   "outputs": [
    {
     "data": {
      "text/plain": [
       "{'my doctor fixed': 1,\n",
       " 'him.': 1,\n",
       " 'the doctor too': 1,\n",
       " 'the doctor.': 1,\n",
       " 'he called': 1,\n",
       " 'he replied': 1}"
      ]
     },
     "execution_count": 10,
     "metadata": {},
     "output_type": "execute_result"
    }
   ],
   "source": [
    "riveter.get_persona_cluster('doctor')"
   ]
  },
  {
   "cell_type": "code",
   "execution_count": 11,
   "metadata": {
    "id": "1jJNaDxmh9vI"
   },
   "outputs": [
    {
     "data": {
      "text/plain": [
       "{'susan arrived': 1, 'she is': 1}"
      ]
     },
     "execution_count": 11,
     "metadata": {},
     "output_type": "execute_result"
    }
   ],
   "source": [
    "riveter.get_persona_cluster('susan')"
   ]
  },
  {
   "cell_type": "code",
   "execution_count": 12,
   "metadata": {
    "id": "yPdIuWqch9vI"
   },
   "outputs": [
    {
     "data": {
      "text/plain": [
       "{'i was': 1,\n",
       " 'i had': 1,\n",
       " 'my doctor': 2,\n",
       " 'me up': 1,\n",
       " 'i felt': 1,\n",
       " 'i also': 1,\n",
       " 'me.': 1,\n",
       " 'my shoe': 1,\n",
       " 'i thanked': 1}"
      ]
     },
     "execution_count": 12,
     "metadata": {},
     "output_type": "execute_result"
    }
   ],
   "source": [
    "riveter.get_persona_cluster('i')"
   ]
  },
  {
   "cell_type": "markdown",
   "metadata": {
    "id": "ILeL-2VVh9vI",
    "tags": []
   },
   "source": [
    "### Plot scores for all documents"
   ]
  },
  {
   "cell_type": "markdown",
   "metadata": {
    "id": "bETApbfdh9vI"
   },
   "source": [
    "You can use the `.plot_scores()` function to display a bar plot with the top *n* or bottom *n* personas in the texts. The function will display the top 10 highest-scoring personas by default."
   ]
  },
  {
   "cell_type": "code",
   "execution_count": null,
   "metadata": {
    "id": "u76NsFu3h9vI"
   },
   "outputs": [],
   "source": [
    "riveter.plot_scores(frequency_threshold=0)"
   ]
  },
  {
   "cell_type": "code",
   "execution_count": null,
   "metadata": {
    "id": "wSTXtFMfh9vI"
   },
   "outputs": [],
   "source": [
    "riveter.plot_scores(2)"
   ]
  },
  {
   "cell_type": "code",
   "execution_count": null,
   "metadata": {
    "id": "bbP3eNeuh9vI"
   },
   "outputs": [],
   "source": [
    "riveter.plot_scores(-2)"
   ]
  },
  {
   "cell_type": "markdown",
   "metadata": {
    "id": "p-ieh519h9vI",
    "tags": []
   },
   "source": [
    "### Get scores, subjects, and direct objects for each document"
   ]
  },
  {
   "cell_type": "markdown",
   "metadata": {
    "id": "UQ5ufWUTh9vI"
   },
   "source": [
    "You can use the `.get_score_for_doc()` function to get power scores (or chosen dynamic scores) for each persona mentioned in a document (based on the document id passed into the training function)."
   ]
  },
  {
   "cell_type": "code",
   "execution_count": 13,
   "metadata": {
    "id": "Cw_26ECEh9vI"
   },
   "outputs": [
    {
     "data": {
      "text/plain": [
       "'I was just thinking about walking down the street, when a car hit a tree. I had to call my doctor to pick me up. I felt so bad I also called Katie, who came in her car. She saved me.'"
      ]
     },
     "execution_count": 13,
     "metadata": {},
     "output_type": "execute_result"
    }
   ],
   "source": [
    "example_stories[0]"
   ]
  },
  {
   "cell_type": "code",
   "execution_count": 14,
   "metadata": {
    "id": "FLAP2xbxh9vJ"
   },
   "outputs": [
    {
     "data": {
      "text/plain": [
       "{'i': -0.2, 'she': 1.0, 'car': 1.0, 'tree': -1.0}"
      ]
     },
     "execution_count": 14,
     "metadata": {},
     "output_type": "execute_result"
    }
   ],
   "source": [
    "riveter.get_scores_for_doc(0)"
   ]
  },
  {
   "cell_type": "markdown",
   "metadata": {
    "id": "J8gtQdQhh9vJ"
   },
   "source": [
    "You can use `.count_nsubj_for_doc()` to get all noun subjects and verb pairs (regardless of whether the verb apperas in the chosen lexicon) for each document."
   ]
  },
  {
   "cell_type": "code",
   "execution_count": 15,
   "metadata": {
    "id": "tkRDZ25gh9vJ"
   },
   "outputs": [
    {
     "data": {
      "text/plain": [
       "{('i', 'have'): 1, ('i', 'feel'): 1, ('she', 'save'): 1, ('car', 'hit'): 1}"
      ]
     },
     "execution_count": 15,
     "metadata": {},
     "output_type": "execute_result"
    }
   ],
   "source": [
    "riveter.count_nsubj_for_doc(0)"
   ]
  },
  {
   "cell_type": "markdown",
   "metadata": {
    "id": "nEZAjDd7h9vJ"
   },
   "source": [
    "You can use `.count_dobj_for_doc()` to get all direct objects and verb pairs (regardless of whether the verb apperas in the chosen lexicon) for each document."
   ]
  },
  {
   "cell_type": "code",
   "execution_count": 16,
   "metadata": {
    "id": "eL6h_i_7h9vJ"
   },
   "outputs": [
    {
     "data": {
      "text/plain": [
       "{('i', 'call'): 1, ('i', 'pick'): 1, ('i', 'save'): 1, ('tree', 'hit'): 1}"
      ]
     },
     "execution_count": 16,
     "metadata": {},
     "output_type": "execute_result"
    }
   ],
   "source": [
    "riveter.count_dobj_for_doc(0)"
   ]
  },
  {
   "cell_type": "markdown",
   "metadata": {
    "id": "Cp1v1aa4h9vJ",
    "tags": []
   },
   "source": [
    "### Plot scores for each document"
   ]
  },
  {
   "cell_type": "markdown",
   "metadata": {
    "id": "k5mn4L5oh9vJ"
   },
   "source": [
    "You can use the `.plot_scores_for_doc()` function to display a bar plot with the top *n* or bottom *n* personas in a specified document. The function will display the top 10 highest-scoring personas by default."
   ]
  },
  {
   "cell_type": "code",
   "execution_count": null,
   "metadata": {
    "id": "bEFsonHMh9vJ"
   },
   "outputs": [],
   "source": [
    "riveter.plot_scores_for_doc(0)"
   ]
  },
  {
   "cell_type": "markdown",
   "metadata": {
    "id": "Wad0Tyvch9vJ"
   },
   "source": [
    "### Use regular expressions in place of entity extraction and coreference resolution\n",
    "\n",
    "Instead of discovering all the entities automatically, you can define a regular expression to capture patterns for each entity. You will need to determine these entities and patterns yourself."
   ]
  },
  {
   "cell_type": "code",
   "execution_count": 1,
   "metadata": {
    "id": "rLqGOb3mh9vN"
   },
   "outputs": [
    {
     "ename": "NameError",
     "evalue": "name 'riveter' is not defined",
     "output_type": "error",
     "traceback": [
      "\u001b[1;31m---------------------------------------------------------------------------\u001b[0m",
      "\u001b[1;31mNameError\u001b[0m                                 Traceback (most recent call last)",
      "Cell \u001b[1;32mIn[1], line 1\u001b[0m\n\u001b[1;32m----> 1\u001b[0m riveter\u001b[38;5;241m.\u001b[39mtrain(example_stories,\n\u001b[0;32m      2\u001b[0m               text_ids,\n\u001b[0;32m      3\u001b[0m               persona_patterns_dict\u001b[38;5;241m=\u001b[39m{\u001b[38;5;124m'\u001b[39m\u001b[38;5;124mfirst person singular\u001b[39m\u001b[38;5;124m'\u001b[39m: \u001b[38;5;124mr\u001b[39m\u001b[38;5;124m'\u001b[39m\u001b[38;5;124m^he$|^him$\u001b[39m\u001b[38;5;124m'\u001b[39m})\n",
      "\u001b[1;31mNameError\u001b[0m: name 'riveter' is not defined"
     ]
    }
   ],
   "source": [
    "riveter.train(example_stories,\n",
    "              text_ids,\n",
    "              persona_patterns_dict={'first person singular': r'^hi$|^me$'})"
   ]
  },
  {
   "cell_type": "code",
   "execution_count": 18,
   "metadata": {
    "id": "hh9wLceQh9vO"
   },
   "outputs": [
    {
     "data": {
      "text/plain": [
       "{'first person singular': -0.5714285714285714}"
      ]
     },
     "execution_count": 18,
     "metadata": {},
     "output_type": "execute_result"
    }
   ],
   "source": [
    "riveter.get_score_totals()"
   ]
  },
  {
   "cell_type": "markdown",
   "metadata": {
    "id": "8D19ebZUh9vO"
   },
   "source": [
    "### Use agency lexicon instead of power"
   ]
  },
  {
   "cell_type": "code",
   "execution_count": 19,
   "metadata": {
    "id": "3bPk63ZDh9vO"
   },
   "outputs": [
    {
     "name": "stderr",
     "output_type": "stream",
     "text": [
      "100%|██████████| 4/4 [00:00<00:00,  4.43it/s]"
     ]
    },
    {
     "name": "stdout",
     "output_type": "stream",
     "text": [
      "2024-03-08 15:08:58 Complete!\n"
     ]
    },
    {
     "name": "stderr",
     "output_type": "stream",
     "text": [
      "\n"
     ]
    }
   ],
   "source": [
    "riveter = Riveter()\n",
    "riveter.load_sap_lexicon('agency')\n",
    "riveter.train(example_stories,\n",
    "              text_ids)"
   ]
  },
  {
   "cell_type": "code",
   "execution_count": 20,
   "metadata": {
    "id": "i_88yedGh9vO"
   },
   "outputs": [
    {
     "data": {
      "text/plain": [
       "{'i': 0.1,\n",
       " 'she': 0.3333333333333333,\n",
       " 'car': 1.0,\n",
       " 'tree': 0.0,\n",
       " 'doctor': 0.16666666666666666,\n",
       " 'susan': 0.0,\n",
       " 'mary': 0.3333333333333333,\n",
       " 'jack': 1.0,\n",
       " 'vase': 0.0}"
      ]
     },
     "execution_count": 20,
     "metadata": {},
     "output_type": "execute_result"
    }
   ],
   "source": [
    "riveter.get_score_totals()"
   ]
  },
  {
   "cell_type": "markdown",
   "metadata": {
    "id": "YUSVElPHh9vO"
   },
   "source": [
    "<br><br><br><br>\n",
    "\n",
    "## **Small demo w/ Rashkin frames**\n",
    "\n",
    "This example is similar to the first example, but here, we'll use Rashkin et al's sentiment frames instead of the power and agency frames we used above."
   ]
  },
  {
   "cell_type": "code",
   "execution_count": null,
   "metadata": {
    "id": "hckY9moGh9vO"
   },
   "outputs": [],
   "source": [
    "example_stories = [\"I was just thinking about walking down the street, when my shoelace snapped. I had to call my doctor to pick me up. I felt so bad I also called my friend Katie, who came in her car. She was a lifesaver. My friend Jack is nice.\",\n",
    "                   \"My doctor fixed my shoe. I thanked him. Then Susan arrived. Now she is calling the doctor too.\"]\n",
    "text_ids = [0, 1]"
   ]
  },
  {
   "cell_type": "code",
   "execution_count": null,
   "metadata": {
    "id": "biQDMG2Uh9vO"
   },
   "outputs": [],
   "source": [
    "riveter = Riveter()\n",
    "riveter.load_rashkin_lexicon('effect')\n",
    "riveter.train(example_stories,\n",
    "              text_ids)"
   ]
  },
  {
   "cell_type": "code",
   "execution_count": null,
   "metadata": {
    "id": "qvzE2c7nh9vO"
   },
   "outputs": [],
   "source": [
    "riveter.get_score_totals()"
   ]
  },
  {
   "cell_type": "code",
   "execution_count": null,
   "metadata": {
    "id": "-TQUXowQh9vO"
   },
   "outputs": [],
   "source": [
    "riveter.get_scores_for_doc(0)"
   ]
  },
  {
   "cell_type": "code",
   "execution_count": null,
   "metadata": {
    "id": "XcNGySDch9vO"
   },
   "outputs": [],
   "source": [
    "riveter.get_scores_for_doc(1)"
   ]
  },
  {
   "cell_type": "code",
   "execution_count": null,
   "metadata": {
    "id": "TCHgsd2Bh9vO"
   },
   "outputs": [],
   "source": [
    "riveter = Riveter()\n",
    "riveter.load_rashkin_lexicon('value')\n",
    "riveter.train(example_stories,\n",
    "              text_ids)"
   ]
  },
  {
   "cell_type": "code",
   "execution_count": null,
   "metadata": {
    "id": "SZbXiH1Uh9vO"
   },
   "outputs": [],
   "source": [
    "riveter.get_score_totals()"
   ]
  },
  {
   "cell_type": "markdown",
   "metadata": {
    "id": "Y-Jz_c-Ah9vO"
   },
   "source": [
    "<br><br><br><br>\n",
    "\n",
    "## **Small demo w/ custom frames**\n",
    "\n",
    "This example is similar to the first example, but here, we'll use a custom lexicon. You can follow this pattern to use your own lexicon.\n",
    "\n",
    "(In this case, our \"custom lexicon\" is actually just a copy of the Rashkin lexicon.)"
   ]
  },
  {
   "cell_type": "code",
   "execution_count": null,
   "metadata": {
    "id": "-QZII5yRh9vO"
   },
   "outputs": [],
   "source": [
    "example_stories = [\"I was just thinking about walking down the street, when my shoelace snapped. I had to call my doctor to pick me up. I felt so bad I also called my friend Katie, who came in her car. She was a lifesaver. My friend Jack is nice.\",\n",
    "                   \"My doctor fixed my shoe. I thanked him. Then Susan arrived. Now she is calling the doctor too.\"]\n",
    "text_ids = [0, 1]"
   ]
  },
  {
   "cell_type": "code",
   "execution_count": null,
   "metadata": {
    "id": "6-brvhOyh9vP"
   },
   "outputs": [],
   "source": [
    "riveter = Riveter()\n",
    "riveter.load_custom_lexicon(lexicon_path='data/example-custom-lexicon/full_frame_info.tsv',\n",
    "                            verb_column='verb',\n",
    "                            agent_column='effect(a)',\n",
    "                            theme_column='effect(t)')\n",
    "riveter.train(example_stories,\n",
    "              text_ids)"
   ]
  },
  {
   "cell_type": "code",
   "execution_count": null,
   "metadata": {
    "id": "eWSO844Ih9vP"
   },
   "outputs": [],
   "source": [
    "riveter.get_score_totals()"
   ]
  },
  {
   "cell_type": "code",
   "execution_count": null,
   "metadata": {
    "id": "qTk52N0lh9vP"
   },
   "outputs": [],
   "source": [
    "riveter.get_scores_for_doc(0)"
   ]
  },
  {
   "cell_type": "code",
   "execution_count": null,
   "metadata": {
    "id": "bd7-WIZ_h9vP"
   },
   "outputs": [],
   "source": [
    "riveter.get_scores_for_doc(1)"
   ]
  },
  {
   "cell_type": "code",
   "execution_count": null,
   "metadata": {
    "id": "dceW_KzFh9vP"
   },
   "outputs": [],
   "source": [
    "riveter = Riveter()\n",
    "riveter.load_rashkin_lexicon('value')\n",
    "riveter.train(example_stories,\n",
    "              text_ids)"
   ]
  },
  {
   "cell_type": "code",
   "execution_count": null,
   "metadata": {
    "id": "A5-A3Ejph9vP"
   },
   "outputs": [],
   "source": [
    "riveter.get_score_totals()"
   ]
  },
  {
   "cell_type": "markdown",
   "metadata": {
    "id": "D4uUmtqih9vP"
   },
   "source": [
    "<br><br><br><br>\n",
    "\n",
    "## **Bigger demo w/ Sap frames for _Pride and Prejudice_**\n",
    "\n",
    "Here we show a larger, more realistic example for the Jane Austen novel.\n",
    "\n",
    "We'll try both discovering entities automatically and using regular expressions to capture pronoun groups."
   ]
  },
  {
   "cell_type": "markdown",
   "metadata": {
    "id": "ZutH-xGwh9vP"
   },
   "source": [
    "### Load data"
   ]
  },
  {
   "cell_type": "code",
   "execution_count": null,
   "metadata": {
    "id": "tnWmbUb4h9vP"
   },
   "outputs": [],
   "source": [
    "lines = [_line.strip() for _line in open('data/pride_and_prejudice.txt', 'r')]\n",
    "texts = ['']\n",
    "for _line in lines:\n",
    "    if _line.strip():\n",
    "        texts[-1] += ' ' + _line\n",
    "    else:\n",
    "        texts[-1] = texts[-1].strip()\n",
    "        texts.append('')\n",
    "text_ids = [i for i, t in enumerate(texts)]\n",
    "\n",
    "len(texts), len(text_ids)"
   ]
  },
  {
   "cell_type": "markdown",
   "metadata": {
    "id": "lzv-XSihh9vP"
   },
   "source": [
    "### Explore using discovered entities (using entity recognition and coreference resolution)"
   ]
  },
  {
   "cell_type": "markdown",
   "metadata": {
    "id": "ZqmqBWVPq2-H"
   },
   "source": [
    "This cell will take a while to run. (A few minutes on an M2 Macbook, ~30 minutes on Colab.)"
   ]
  },
  {
   "cell_type": "code",
   "execution_count": null,
   "metadata": {
    "id": "i0prMINyh9vP"
   },
   "outputs": [],
   "source": [
    "riveter = Riveter()\n",
    "riveter.load_sap_lexicon('power')\n",
    "riveter.train(texts,\n",
    "              text_ids,\n",
    "              num_bootstraps=10)"
   ]
  },
  {
   "cell_type": "markdown",
   "metadata": {
    "id": "q6FDxzHuq8dJ"
   },
   "source": [
    "To avoid re-training every time we run the notebook, we can save the Riveter model for later."
   ]
  },
  {
   "cell_type": "code",
   "execution_count": null,
   "metadata": {
    "id": "IYNiIfKvh9vP"
   },
   "outputs": [],
   "source": [
    "riveter.save(colab_directory_path + '/riveter.pride_and_prejudice.pkl')"
   ]
  },
  {
   "cell_type": "code",
   "execution_count": null,
   "metadata": {
    "id": "y2ec2zAEh9vP"
   },
   "outputs": [],
   "source": [
    "persona_score_dict = riveter.get_score_totals(frequency_threshold=20)\n",
    "len(persona_score_dict)"
   ]
  },
  {
   "cell_type": "code",
   "execution_count": null,
   "metadata": {
    "id": "0G3tgCRNh9vP"
   },
   "outputs": [],
   "source": [
    "for _persona, _score in sorted(persona_score_dict.items(), key=lambda x: x[1], reverse=True):\n",
    "    print(round(_score, 2), '\\t', _persona)"
   ]
  },
  {
   "cell_type": "code",
   "execution_count": null,
   "metadata": {
    "id": "u_M87eMfh9vQ"
   },
   "outputs": [],
   "source": [
    "persona_polarity_verb_count_dict = riveter.get_persona_polarity_verb_count_dict()\n",
    "len(persona_polarity_verb_count_dict)"
   ]
  },
  {
   "cell_type": "code",
   "execution_count": null,
   "metadata": {
    "id": "uA-98_5_h9vQ"
   },
   "outputs": [],
   "source": [
    "persona_polarity_verb_count_dict['mr. gardiner']"
   ]
  },
  {
   "cell_type": "code",
   "execution_count": null,
   "metadata": {
    "id": "5e4Yr-fzh9vQ"
   },
   "outputs": [],
   "source": [
    "persona_polarity_verb_count_dict['elizabeth']"
   ]
  },
  {
   "cell_type": "code",
   "execution_count": null,
   "metadata": {
    "id": "fC8JZej0h9vQ"
   },
   "outputs": [],
   "source": [
    "persona_polarity_verb_count_dict['darcy']"
   ]
  },
  {
   "cell_type": "code",
   "execution_count": null,
   "metadata": {
    "id": "V1gaALYph9vQ"
   },
   "outputs": [],
   "source": [
    "riveter.plot_scores(title='Personas by Score', target_personas=['elizabeth', 'darcy'], figsize=(3, 3))"
   ]
  },
  {
   "cell_type": "code",
   "execution_count": null,
   "metadata": {
    "id": "01KIG8-Sh9vQ"
   },
   "outputs": [],
   "source": [
    "riveter.plot_scores(title='',\n",
    "                    frequency_threshold=10,\n",
    "                    number_of_scores=10,\n",
    "                    figsize=(6,3.5),\n",
    "                    output_path=colab_directory_path + '/barplot.pride_and_prejudice.most_power.pdf')"
   ]
  },
  {
   "cell_type": "code",
   "execution_count": null,
   "metadata": {
    "id": "9q3-nPHvh9vQ"
   },
   "outputs": [],
   "source": [
    "riveter.plot_scores(title='',\n",
    "                    frequency_threshold=10,\n",
    "                    number_of_scores=-10,\n",
    "                    figsize=(6,3),\n",
    "                    output_path=colab_directory_path + '/barplot.pride_and_prejudice.least_power.pdf')"
   ]
  },
  {
   "cell_type": "code",
   "execution_count": null,
   "metadata": {
    "id": "kjfg1V_Hh9vQ"
   },
   "outputs": [],
   "source": [
    "riveter.plot_verbs_for_persona('elizabeth', figsize=(2,6), output_path=colab_directory_path + '/heatmap.pride_and_prejudice.elizabeth.pdf')"
   ]
  },
  {
   "cell_type": "code",
   "execution_count": null,
   "metadata": {
    "id": "TcA2AXbnh9vQ"
   },
   "outputs": [],
   "source": [
    "riveter.plot_verbs_for_persona('lizzy', figsize=(2,4), output_path=colab_directory_path + '/heatmap.pride_and_prejudice.lizzy.pdf')"
   ]
  },
  {
   "cell_type": "code",
   "execution_count": null,
   "metadata": {
    "id": "YJZpbw2Ih9vQ"
   },
   "outputs": [],
   "source": [
    "riveter.plot_verbs_for_persona('mr. darcy', figsize=(2,6), output_path=colab_directory_path + '/heatmap.pride_and_prejudice.mrdarcy.pdf')"
   ]
  },
  {
   "cell_type": "code",
   "execution_count": null,
   "metadata": {
    "id": "uns3WI0Wh9vQ"
   },
   "outputs": [],
   "source": [
    "riveter.plot_verbs_for_persona('sir william', figsize=(2,6), output_path=colab_directory_path + '/heatmap.pride_and_prejudice.sirwilliam.pdf')"
   ]
  },
  {
   "cell_type": "code",
   "execution_count": null,
   "metadata": {
    "id": "LcKyDnEqh9vQ"
   },
   "outputs": [],
   "source": [
    "riveter.plot_verbs_for_persona('charlotte', figsize=(2,6), output_path=colab_directory_path + '/heatmap.pride_and_prejudice.misslucas.pdf')"
   ]
  },
  {
   "cell_type": "code",
   "execution_count": null,
   "metadata": {
    "id": "14uQbzVLh9vQ"
   },
   "outputs": [],
   "source": [
    "matched_ids, matched_texts = riveter.get_documents_for_persona('charlotte')\n",
    "for t in matched_texts[:10]:\n",
    "    print(t)\n",
    "    print()"
   ]
  },
  {
   "cell_type": "markdown",
   "metadata": {
    "id": "npd-uTlmh9vR"
   },
   "source": [
    "### Explore using regular expressions to capture pronouns"
   ]
  },
  {
   "cell_type": "code",
   "execution_count": null,
   "metadata": {
    "id": "zceWdqGrh9vR"
   },
   "outputs": [],
   "source": [
    "riveter = Riveter()\n",
    "riveter.load_sap_lexicon('power')\n",
    "riveter.train(texts,\n",
    "             text_ids,\n",
    "             num_bootstraps=20,\n",
    "             persona_patterns_dict={'masculine': r'^he$|^him$|^himself$',\n",
    "                                    'feminine': r'^she$|^her$|^herself$',\n",
    "                                    'third plural': r'^they$|^them$|^themselves$'})"
   ]
  },
  {
   "cell_type": "code",
   "execution_count": null,
   "metadata": {
    "id": "ZWcihDzOh9vR"
   },
   "outputs": [],
   "source": [
    "persona_score_dict = riveter.get_score_totals()\n",
    "len(persona_score_dict)"
   ]
  },
  {
   "cell_type": "code",
   "execution_count": null,
   "metadata": {
    "id": "vfNewG4kh9vR"
   },
   "outputs": [],
   "source": [
    "for _persona, _score in sorted(persona_score_dict.items(), key=lambda x: x[1], reverse=True):\n",
    "    print(round(_score, 3), '\\t', _persona)"
   ]
  },
  {
   "cell_type": "code",
   "execution_count": null,
   "metadata": {
    "id": "Z_RcFxMSh9vR"
   },
   "outputs": [],
   "source": [
    "persona_polarity_verb_count_dict = riveter.get_persona_polarity_verb_count_dict()\n",
    "len(persona_polarity_verb_count_dict)"
   ]
  },
  {
   "cell_type": "code",
   "execution_count": null,
   "metadata": {
    "id": "2VvDBRDEh9vR"
   },
   "outputs": [],
   "source": [
    "riveter.plot_scores(number_of_scores=10,\n",
    "                    title='',\n",
    "                    target_personas=['masculine', 'feminine', 'third plural'],\n",
    "                    figsize=(3,3),\n",
    "                    output_path=colab_directory_path + '/barplot.prideandprejudice.pronouns.pdf')"
   ]
  },
  {
   "cell_type": "code",
   "execution_count": null,
   "metadata": {
    "id": "cm7gCipwh9vR"
   },
   "outputs": [],
   "source": [
    "riveter.plot_verbs_for_persona('masculine', figsize=(3,7), output_path=colab_directory_path + '/heatmap.prideandprejudice.masculine.pdf')"
   ]
  },
  {
   "cell_type": "code",
   "execution_count": null,
   "metadata": {
    "id": "8Ywcj1Fuh9vR"
   },
   "outputs": [],
   "source": [
    "riveter.plot_verbs_for_persona('feminine', figsize=(3,7), output_path=colab_directory_path + '/heatmap.prideandprejudice.feminine.pdf')"
   ]
  },
  {
   "cell_type": "code",
   "execution_count": null,
   "metadata": {
    "id": "_S0291tEh9vR"
   },
   "outputs": [],
   "source": [
    "riveter.plot_verbs_for_persona('third plural', figsize=(3,7), output_path=colab_directory_path + '/heatmap.prideandprejudice.thirdplural.pdf')"
   ]
  },
  {
   "cell_type": "code",
   "execution_count": null,
   "metadata": {
    "id": "6PjRdMaMh9vR"
   },
   "outputs": [],
   "source": [
    "matched_ids, matched_texts = riveter.get_documents_for_persona('feminine')\n",
    "for t in matched_texts[:10]:\n",
    "    print(t)\n",
    "    print()"
   ]
  },
  {
   "cell_type": "code",
   "execution_count": null,
   "metadata": {
    "id": "6IAdsr4gh9vR"
   },
   "outputs": [],
   "source": [
    "matched_ids, matched_texts = riveter.get_documents_for_persona('masculine')\n",
    "for t in matched_texts[:10]:\n",
    "    print(t)\n",
    "    print()"
   ]
  },
  {
   "cell_type": "code",
   "execution_count": null,
   "metadata": {
    "id": "haspnwhhh9vR"
   },
   "outputs": [],
   "source": [
    "matched_ids, matched_texts = riveter.get_documents_for_verb('hear')\n",
    "for t in matched_texts[:10]:\n",
    "    print(t)\n",
    "    print()"
   ]
  },
  {
   "cell_type": "code",
   "execution_count": null,
   "metadata": {
    "id": "5twk7_Znh9vR"
   },
   "outputs": [],
   "source": []
  },
  {
   "cell_type": "code",
   "execution_count": null,
   "metadata": {
    "id": "9_G3iwOSh9vR"
   },
   "outputs": [],
   "source": []
  }
 ],
 "metadata": {
  "colab": {
   "provenance": []
  },
  "kernelspec": {
   "display_name": "Python 3 (ipykernel)",
   "language": "python",
   "name": "python3"
  },
  "language_info": {
   "codemirror_mode": {
    "name": "ipython",
    "version": 3
   },
   "file_extension": ".py",
   "mimetype": "text/x-python",
   "name": "python",
   "nbconvert_exporter": "python",
   "pygments_lexer": "ipython3",
   "version": "3.11.7"
  },
  "vscode": {
   "interpreter": {
    "hash": "66412c03f91e9a42e9c41dd543b50b96eee08a8e3011708689019231b0abadf5"
   }
  }
 },
 "nbformat": 4,
 "nbformat_minor": 4
}
